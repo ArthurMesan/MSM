{
 "cells": [
  {
   "cell_type": "markdown",
   "id": "acc8e70d-c3a4-47fb-86bd-994b604579f9",
   "metadata": {
    "editable": true,
    "slideshow": {
     "slide_type": ""
    },
    "tags": []
   },
   "source": [
    "# Modelagem e Simulação Multifísica - Aula 04\n",
    "\n",
    "## O Levitador Magnético\n",
    "\n",
    "## 1 - Geometria do problema. \n",
    "\n",
    "Considere o levitador magnético da figura a seguir: \n",
    "O dispositivo é composto por um núcleo ferromagnético com permeabilidade $\\mu$ elevada (geralmente não linear) enrolada por uma bobina de cobre com $N$ espiras. O dispositivo é usado para equilibrar a esfera magnética de massa $m$ à uma distância $x$, medida a partir da base do núcleo. Em condição de equilíbrio, a força magnética $f_m$ é igual à força gravitacional $f_g$. Entretanto, é fácil perceber que essa é uma condição de equilíbrio instável. Para garantir a estabilidade do sistema, a posição da massa deve ser monitorada e a tensão $u(t)$ controlada (operação em malha fechada). Devido às suas não-linearidades, o projeto de controladores para esse tipo de dispositivo é um tema importante na teoria de controle e possui diversas aplicações práticas, como por exemplo, no projeto de rolamentos magnéticos ou em trens de alta velocidade.      \n",
    "\n",
    "<p>\n",
    "    <img width=\"450\" height=\"100\" src=\"Figs/LevitadorGeo.png\">\n",
    "</p>\n",
    "\n",
    "Não é objetivo dessa disciplina projetar controladores para o levitador magnético, e sim compreender e modelar as físicas que governam o comportamento do mesmo."
   ]
  },
  {
   "cell_type": "markdown",
   "id": "117e1441-c022-443f-a891-b26a4a1c646f",
   "metadata": {},
   "source": [
    "## 2 - O problema de valor inicial\n",
    "\n",
    "### 2.1 - O modelo circuital equivalente.\n",
    "\n",
    "Do ponto de vista dos terminais da fonte, o dispositivo pode ser substituído por um modelo de circuito equivalente, desde que a relação entre a tesão e a corrente da fonte seja satisfatoriamente representada. Uma possível representação para o circuito equivalente é apresentada a seguir:\n",
    "\n",
    "<p>\n",
    "    <img width=\"350\" height=\"100\" src=\"Figs/LevitadorCirc.png\">\n",
    "</p>\n",
    "\n",
    "No circuito, $R$ representa a resistência do fio da bobina, e pode ser estimado pela seção transversal do fio, seu comprimento total e sua condutividade $\\sigma$. Em princípio, a condutividade de um condutor é função de sua temperatura, mas para a maioria das aplicações $R$ pode ser considerado constante. \n",
    "\n",
    "A indutância $L$ é obtida pela relação entre o fluxo magnético concatenado na bobina e a corrente $i$. O fluxo magnético por sua vez é função da geometria do levitador (que varia com a posição da esfera) e das permeabilidades magnéticas do núcleo e da esfera. Como o núcleo magnético é geralmente não linear, a indutância seria também função da intensidade da corrente, elevando consideravelmente a complexidade do comportamento da indutância. Felizmente, o problema pode ser linearizado em função da corrente de equilíbrio. Como consequência a indutância passa a ser apenas função da posição da esfera, ou seja $L=f(x)$. Geralmente, a relação entre a indutância e a posição é modelada como:\n",
    "\n",
    "\\begin{equation}\n",
    "L(x) = \\frac{k}{x}\n",
    "\\end{equation}\n",
    "\n",
    "onde $k$ é uma constante obtida experimentalmente. \n",
    "\n",
    "A condutância $G$ representa as perdas no interior do núcleo magnético. Tais perdas podem ser oriundas de correntes parasitas (correntes de Foucault) ou também devidas à magnetização e desmagnetização do núcleo (histerese). Tais efeitos são mais significantes à medida que a frequência de operação do circuito aumenta. Para o levitador estudado, esses efeitos serão ignorados.\n",
    "\n",
    "Por fim, a força contraeletromotriz $e$ é relacionada ao trabalho realizado sobre a esfera. Ela é obtida a partir do produto do fator de força $Bl$ e a velocidade da esfera. O fator de força, por sua vez, é obtido pela razão entre a força magnética e a corrente do circuito.\n",
    "\n",
    "\\begin{equation}\n",
    "Bl = \\frac{f_m}{i}\n",
    "\\end{equation}\n",
    "\n",
    "Assim como a indutância, a força magnética possui comportamento não linear, logo $f_m=f(x,i)$. Geralmente essa relação é aproximada pela seguinte relação quadrática:\n",
    "\n",
    "\\begin{equation}\n",
    "f_m = \\frac{k}{2}\\left(\\frac{i^2}{x^2}\\right)\n",
    "\\end{equation}\n",
    "\n",
    "Adicionalmente, como a força contraeletromotriz $e$ pode ser muito menor do que a tensão no indutor, é comum ver na literatura modelos que desconsideram esse fator. Nesse caso o circuito equivalente se reduz a um circuito RL série e o trabalho realizado sobre a esfera pode ser estimado a partir da variação da energia armazenada no campo magnético.  \n",
    "\n",
    "#### 2.1.1 - Aplicando a lei de Kirchhoff das tensões\n",
    "\n",
    "Assumindo que as perdas no núcleo não são significativas ($G=0$), a lei de Kirchhoff das tensões (LKT) do circuito é dada por:\n",
    "\n",
    "\\begin{equation}\n",
    "u(t) = Ri(t) + L\\frac{di(t)}{dt} + Bl\\frac{dx(t)}{dt}\n",
    "\\end{equation}\n",
    "\n",
    "Sendo essa a equação diferencial ordinária que governa o comportamento do circuito. É importante lembrar que $L(x)$ e $Bl(x,i)$ não são constantes e que a equação governante é não linear. Entretanto, para pequenos deslocamentos da esfera, é possível linearizar a equação em relação ao ponto de equilíbrio. \n",
    "\n",
    "#### 2.1.2 - Conservação de energia\n",
    "\n",
    "Multiplicando a equação anterior por $i(t)$ obtemos:\n",
    "\n",
    "\\begin{equation}\n",
    "u(t)i(t) = Ri(t)^2 + Li(t)\\frac{di(t)}{dt} + Bli(t)\\frac{dx(t)}{dt}\n",
    "\\end{equation}\n",
    "\n",
    "onde:\n",
    "* $p(t) = u(t)i(t)$ é a potência instantânea fornecida pela fonte, \n",
    "* $Ri(t)^2$ representa as perdas por efeito Joule\n",
    "* O segundo termo do lado direito representa a variação da energia armazenada no campo magnetico,\n",
    "\n",
    "\\begin{equation}\n",
    "\\frac{d}{dt} \\left( \\frac{1}{2}Li(t)^2 \\right) = Li(t)\\frac{di(t)}{dt}\n",
    "\\end{equation}\n",
    "\n",
    "repare que a equação acima assume desprezível a variação da indutância com o tempo.\n",
    "\n",
    "* O último termo representa a potência mecânica, onde $v$ é a velocidade da esfera.\n",
    "\n",
    "\\begin{equation}\n",
    " f_m v = Bli(t)\\frac{dx(t)}{dt}\n",
    "\\end{equation}"
   ]
  },
  {
   "cell_type": "markdown",
   "id": "a8414472-e547-4944-80eb-a24398ca6b34",
   "metadata": {
    "editable": true,
    "slideshow": {
     "slide_type": ""
    },
    "tags": []
   },
   "source": [
    "### 2.3 - O modelo mecânico\n",
    "\n",
    "A equação diferencial que descreve a posição da esfera é dada pela segunda lei de Newton, sendo que as forças atuantes na esfera são a força magnética e a força gravitacional $f_g$\n",
    "\n",
    "\\begin{eqnarray}\n",
    "f &=& m \\ddot x \\\\\n",
    "f &=& f_g - f_m  \\\\\n",
    "m \\ddot x &=& mg - f_m \\\\\n",
    "\\end{eqnarray}\n",
    "\n",
    "Onde $g$ é a aceleração da gravidade. \n",
    "\n",
    "### 2.4 - Equações governantes e condição inicial\n",
    "\n",
    "O problema de valor inicial é então dado pelo sistema de equações formado pelos modelos circuital e mecânico. \n",
    "A unicidade da solução é dada por meio da corrente inicial $i(0)$, a posição $x(0)$ e velocidade inicial $v(0)$ . \n",
    "\n",
    "\\begin{eqnarray}\n",
    "\\dot i &=& \\frac{u}{L(x)} - \\frac{R}{L(x)}i - \\frac{Bl(i,x)}{L(x)}\\dot x\\\\\n",
    "\\ddot x &=& g - \\frac{f_m(i,x)}{m} \\\\\n",
    "\\end{eqnarray}\n",
    "\n",
    "## 3 - Representação por espaço de estados\n",
    "\n",
    "Usando a representação por espaço de estados, o sistema anterior deve ser reescrito por meio de equações diferenciais de primeira ordem. Para isso, iremos definir o vetor de variáveis de estado como sendo (i,x,v) e o sistema pode ser reescrito como:\n",
    "\n",
    "\\begin{eqnarray}\n",
    "\\dot i &=& - \\frac{R}{L(x)}i - \\frac{Bl(i,x)}{L(x)} v + \\frac{u}{L(x)}\\\\\n",
    "\\dot x &=& v \\\\\n",
    "\\dot v &=& g - \\frac{f_m(i,x)}{m}\n",
    "\\end{eqnarray}"
   ]
  },
  {
   "cell_type": "markdown",
   "id": "c159191b-61fa-4165-b21c-ddd99f2c6402",
   "metadata": {},
   "source": [
    "## 4 - Ponto de operação e Equilíbrio instável\n",
    "\n",
    "Para ilustrar a instabilidade em malha aberta, iremos usar como exemplo o levitador magnético disponível no laboratório de controle do Departamento de Engenharia Eletrônica da UFMG.\n",
    "<p>\n",
    "    <img width=\"250\" height=\"100\" src=\"Figs/LevitadorReal.png\">\n",
    "</p>\n",
    "<p>\n",
    "    <em> <a href=\"https://www.lehigh.edu/~inconsy/lab/frames/experiments/FEEDBACK-Maglev_User_Manual.pdf\"> Levitador magnético Feedback Instruments </a>. Fonte: https://www.feedback-instruments.com</em>\n",
    "</p>\n",
    "\n",
    "Existem diversos trabalhos na literatura relacionados a esse levitador. Alguns trabalhos são apresentados a seguir. Reparem que os parâmetros apresentados divergem consideravelmente devido à escolha do ponto de operação e do modelo adotado.  \n",
    "\n",
    "### Parâmetros Choudhary\n",
    "Parâmetros apresentados por <a href=\"https://www.wseas.org/multimedia/journals/systems/2014/a065702-363.pdf\"> SANTOSH KR. CHOUDHARY </a> em \"Robust Feedback Control Analysis of Magnetic Levitation System\", WSEAS TRANSACTIONS on SYSTEMS, Vol 3, 2014."
   ]
  },
  {
   "cell_type": "code",
   "execution_count": null,
   "id": "a1616de4-8c45-4344-b2a1-58d6f548cb6d",
   "metadata": {},
   "outputs": [
    {
     "name": "stdout",
     "output_type": "stream",
     "text": [
      "\n",
      "At equilibrium:\n",
      "    fm =  0.1451111111111111\n",
      "    mg =  0.66776\n",
      "    fm/fg (%) =  21.731027781105652 ??!!!\n"
     ]
    }
   ],
   "source": [
    "# Magnetic Levitation parameters presented by Choudhary in the paper: \n",
    "# Robust Feedback Control Analysis of Magnetic Levitation System, WSEAS TRANSACTIONS on SYSTEMS, 2014.\n",
    "import numpy as np\n",
    "\n",
    "# Magnetic force fm\n",
    "def fm(i,x):\n",
    "    return k/2*i*i/x/x\n",
    "\n",
    "# The equilibrium point\n",
    "i0 = 0.8 #Ampere (A)\n",
    "x0 = 0.012 # meter (m)\n",
    "\n",
    "# Parameters\n",
    "g = 9.82 # (m/s^2) # free-fall acceleration. Dado nao disponível no artigo\n",
    "m = 0.068 # (Kg)\n",
    "R = 10 # ohms (Ω)\n",
    "L = 0.4125 # Henry (H)\n",
    "k = 6.53e-5 # (Nm^2/A^2)\n",
    "\n",
    "#i0 = np.sqrt(g*m*(x0)*(x0)/k*2); # Forcing the balance analytically\n",
    "#print(\"    i0 = \",i0)\n",
    "#print(\"    L = \",k/x0)\n",
    "\n",
    "print(\"\\nAt equilibrium:\")\n",
    "print(\"    fm = \",fm(i0,x0))\n",
    "print(\"    mg = \",m*g)\n",
    "print(\"    fm/fg (%) = \",fm(i0,x0)/(m*g)*100, \"??!!!\")"
   ]
  },
  {
   "cell_type": "markdown",
   "id": "a52c219e-9cc6-4333-8eb9-dd3e03a30fa7",
   "metadata": {},
   "source": [
    "Alguns detalhes sobre os parâmetros apresentados por Choudhary: i) o modelo circuital apresentado consiste de um circuito RL série ($G=0$ e $e=0$) e ii) a força é linearizada sobre o ponto de operação $(i_0,x_0)$. Entretanto os resultados não são consistentes com as equações apresentadas."
   ]
  },
  {
   "cell_type": "markdown",
   "id": "c7c69a17-c76d-4459-b53c-f2c5290e038f",
   "metadata": {},
   "source": [
    "### Parâmetros Yaseen\n",
    "Parâmetros apresentados por <a href=\"https://www.sciencedirect.com/science/article/pii/S2211379717320065\"> Mundher H.A. Yaseen </a> em \"Modeling and control for a magnetic levitation system based on SIMLAB platform in real time\", Results in Physics, \n",
    "Vol 8, March 2019. Nesse caso a força magnética é modelada como $f_m = C*i/x^3$."
   ]
  },
  {
   "cell_type": "code",
   "execution_count": null,
   "id": "bcbe7cad-d808-4f41-8233-f055c8bce01b",
   "metadata": {},
   "outputs": [
    {
     "name": "stdout",
     "output_type": "stream",
     "text": [
      "\n",
      "At equilibrium:\n",
      "    i0 =  1.0\n",
      "    fm =  0.29999999999999993\n",
      "    mg =  0.293127\n",
      "    fm/fg (%) =  102.34471747740737\n"
     ]
    }
   ],
   "source": [
    "# The equilibrium point\n",
    "i0 = 1.0 #Ampere (A)\n",
    "x0 = 0.020 # meter (m)\n",
    "\n",
    "# Parameters\n",
    "g = 9.82 # (m/s^2) # free-fall acceleration. Dado nao disponível no artigo\n",
    "m = 0.02985 # (Kg)\n",
    "R = 2.0 # ohms (Ω)\n",
    "L = 15e-3 # Henry (H)\n",
    "C = 2.4e-6 # (Nm^3/A)\n",
    "\n",
    "print(\"\\nAt equilibrium:\")\n",
    "print(\"    i0 = \",i0)\n",
    "print(\"    fm = \", C*i0/x0/x0/x0)\n",
    "print(\"    mg = \",m*g)\n",
    "print(\"    fm/fg (%) = \",C*i0/x0/x0/x0/(m*g)*100)"
   ]
  },
  {
   "cell_type": "markdown",
   "id": "4f65e975-1857-4a71-80b2-50e4985de18b",
   "metadata": {},
   "source": [
    "### Parâmetros Abbadi\n",
    "Parâmetros apresentados por <a href=\"http://cegt201.bradley.edu/projects/proj2003/maglev/docs/PDF/final.pdf\"> Marwan K. Abbadi </a> em \"Modeling and Control of a Magnetic Levitation System\", Department of Electrical and Computer Engineering-Bradley University, 2004. A corrente $i_0$ não é apresentada e é calculada analiticamente. Adicionalmente, não são apresentadas a resistência e a indutância."
   ]
  },
  {
   "cell_type": "code",
   "execution_count": null,
   "id": "999e930e-32fb-4b85-8ae1-587485e29d3d",
   "metadata": {},
   "outputs": [
    {
     "name": "stdout",
     "output_type": "stream",
     "text": [
      "\n",
      "At equilibrium:\n",
      "    i0 =  0.8407321622968751\n",
      "    fm =  0.20622000000000001\n",
      "    mg =  0.20622000000000001\n",
      "    fm/fg (%) =  100.0\n"
     ]
    }
   ],
   "source": [
    "# Magnetic Levitation parameters presented by Marwan K. Abbadi\n",
    "# Modeling and Control of a Magnetic Levitation System, 2004.\n",
    "\n",
    "# The equilibrium point\n",
    "#i0 = ?? #Ampere (A)\n",
    "x0 = 0.0225 # meter (m)\n",
    "\n",
    "# Parameters\n",
    "g = 9.82 # (m/s^2) # free-fall acceleration. Dado nao disponível no artigo\n",
    "m = 0.021 # (Kg)\n",
    "#R = ?? # ohms (Ω)\n",
    "#L = ?? # Henry (H)\n",
    "C = 1.477e-4 # (Nm^2/A^2)\n",
    "k = 2*C\n",
    "\n",
    "i0 = np.sqrt(g*m*(x0)*(x0)/C); # Forcing the balance analytically\n",
    "\n",
    "print(\"\\nAt equilibrium:\")\n",
    "print(\"    i0 = \",i0)\n",
    "#print(\"    L = \",k/x0)\n",
    "print(\"    fm = \",fm(i0,x0))\n",
    "print(\"    mg = \",m*g)\n",
    "print(\"    fm/fg (%) = \",fm(i0,x0)/(m*g)*100)"
   ]
  },
  {
   "cell_type": "markdown",
   "id": "8686f0dc-9045-4a61-9da3-51ab92f04b36",
   "metadata": {},
   "source": [
    "### Modelo DELT - UFMG\n",
    "Modelo usado na disciplina Oficina de Simulação de Sistemas Dinâmicos do Departamento de Engenharia Eletrônica da UFMG. Apenas o modelo mecânico é apresentado, não sendo apresentadas a indutância e a resistência. Reparem também que o modelo é instável mesmo sem adicionarmos um ruído externo, pois a própria aproximação utilizada já faz com que a força resultante seja diferente de zero."
   ]
  },
  {
   "cell_type": "code",
   "execution_count": null,
   "id": "07c6de3a-3438-4c23-b579-8d42e510de5e",
   "metadata": {},
   "outputs": [
    {
     "name": "stdout",
     "output_type": "stream",
     "text": [
      "\n",
      "At equilibrium:\n",
      "    i0 =  1.0\n",
      "    x0 =  0.0073\n",
      "    fm =  0.6127603677988366\n",
      "    mg =  0.6670800000000001\n",
      "    fm/fg (%) =  91.85710376549086\n"
     ]
    }
   ],
   "source": [
    "# Parameters (EC5)\n",
    "m = 0.068 # (Kg)\n",
    "g = 9.81 #(m/s^2)\n",
    "k = 2*3.2654e-5 #(Nm^2/A^2) \n",
    "x0 = 7.3e-3 #(m)\n",
    "i0 = 1.0 #(A)\n",
    "\n",
    "\n",
    "print(\"\\nAt equilibrium:\")\n",
    "print(\"    i0 = \",i0)\n",
    "print(\"    x0 = \",x0)\n",
    "print(\"    fm = \",fm(i0,x0))\n",
    "print(\"    mg = \",m*g)\n",
    "print(\"    fm/fg (%) = \",fm(i0,x0)/(m*g)*100)"
   ]
  },
  {
   "cell_type": "markdown",
   "id": "28bb1468-f8d0-451d-811f-dc1a540a007f",
   "metadata": {},
   "source": [
    "## 4 - Operação em malha aberta\n",
    "\n",
    "Usando o modelo da UFMG, é fácil observar que o sistema será instável, mesmo sem a introdução de nenhum ruído, uma vez que $i_0$ foi obtido experimentalmente e a força magnética não compensa totalmente a força peso.\n",
    "\n",
    "Assumindo que em equilíbrio não á variação de corrente nem de posição, a tensão de entraga poderia ser dada por:  "
   ]
  },
  {
   "cell_type": "code",
   "execution_count": null,
   "id": "48d86724-a5b8-45a2-ba19-6ebf1aaae362",
   "metadata": {},
   "outputs": [],
   "source": [
    "# Resistance\n",
    "R = 1.0 #(Ohm)\n",
    "u0 = R*i0"
   ]
  },
  {
   "cell_type": "markdown",
   "id": "8d1e1aba-fd39-41cd-9bbd-781578fc95ed",
   "metadata": {},
   "source": [
    "E a representação em espaço de estados é descrita como: "
   ]
  },
  {
   "cell_type": "code",
   "execution_count": null,
   "id": "6c1f2e8c-bcd8-4712-b987-e6158e5aa374",
   "metadata": {},
   "outputs": [],
   "source": [
    "# Magnetic force fm\n",
    "def fm(i,x):\n",
    "    return k/2*i*i/x/x\n",
    "# Force Factor\n",
    "def Bl(i,x):\n",
    "     return k/2*i/x/x #(N/A)\n",
    "# Inductance\n",
    "def L(x):\n",
    "     return k/x #(H)\n",
    "\n",
    "\n",
    "# State space representation in vector form\n",
    "# dy = y´ = function(y,t)\n",
    "# y = [i,x,v,E]\n",
    "\n",
    "def f(t,y):\n",
    "    i,x,v = y\n",
    "    \n",
    "    #di/dt\n",
    "    di = -R/L(x)*i - Bl(i,x)/L(x)*v + u0/L(x)\n",
    "    #dx/dt\n",
    "    dx = v\n",
    "    #dv/dt\n",
    "    dv = g-fm(i,x)/m\n",
    "   \n",
    "    return [di, dx, dv]"
   ]
  },
  {
   "cell_type": "markdown",
   "id": "e4ecda94-c1ba-47f4-9e38-391dda5f1169",
   "metadata": {},
   "source": [
    "Simulando o problema"
   ]
  },
  {
   "cell_type": "code",
   "execution_count": null,
   "id": "9f78c3ad-1cef-493e-846e-c95790278970",
   "metadata": {},
   "outputs": [],
   "source": [
    "from scipy.integrate import solve_ivp\n",
    "\n",
    "# Initial conditions\n",
    "# y = [i,x,v]\n",
    "y_0 = [i0,x0,0.0]\n",
    "# Time span\n",
    "t_0 = 0.0\n",
    "t_end = 1 #(s) \n",
    "\n",
    "sol = solve_ivp(f, [t_0, t_end],y_0)"
   ]
  },
  {
   "cell_type": "code",
   "execution_count": null,
   "id": "b4462466-30e3-413a-bbfe-a398c41c3e26",
   "metadata": {},
   "outputs": [
    {
     "data": {
      "image/png": "[encoded data removed]",
      "text/plain": [
       "<Figure size 1500x400 with 2 Axes>"
      ]
     },
     "metadata": {},
     "output_type": "display_data"
    },
    {
     "data": {
      "image/png": "[encoded data removed]",
      "text/plain": [
       "<Figure size 1500x400 with 1 Axes>"
      ]
     },
     "metadata": {},
     "output_type": "display_data"
    }
   ],
   "source": [
    "import matplotlib.pyplot as plt\n",
    "\n",
    "# --- Position plot --- \n",
    "fig = plt.figure(figsize=(15,4))\n",
    "plt.subplot(1, 2, 1)\n",
    "plt.plot(sol.t, sol.y[1,:]-x0, 'k', linewidth=2); \n",
    "plt.grid(True);\n",
    "plt.xlabel('$t$ (s)');\n",
    "plt.ylabel('$x(t)-x_0$ (m)');\n",
    "fig.suptitle('Fig. 1 - Dados da esfera');\n",
    "\n",
    "plt.subplot(1, 2, 2)\n",
    "plt.plot(sol.t, sol.y[2,:], 'k', linewidth=2); \n",
    "plt.grid(True);\n",
    "plt.xlabel('$t$ (s)');\n",
    "plt.ylabel('$v(t)$ (m)');\n",
    "\n",
    "# --- Source plot ---\n",
    "fig = plt.figure(figsize=(15,4))\n",
    "plt.subplot(1, 2, 1)\n",
    "plt.plot(sol.t, sol.y[0,:], 'k', linewidth=2); \n",
    "plt.grid(True);\n",
    "plt.xlabel('$t$ (s)');\n",
    "plt.ylabel('$i(t)$ (A)');\n",
    "fig.suptitle('Fig. 2 - Dados da fonte');"
   ]
  }
 ],
 "metadata": {
  "kernelspec": {
   "display_name": "Python 3 (ipykernel)",
   "language": "python",
   "name": "python3"
  },
  "language_info": {
   "codemirror_mode": {
    "name": "ipython",
    "version": 3
   },
   "file_extension": ".py",
   "mimetype": "text/x-python",
   "name": "python",
   "nbconvert_exporter": "python",
   "pygments_lexer": "ipython3",
   "version": "3.12.3"
  }
 },
 "nbformat": 4,
 "nbformat_minor": 5
}
