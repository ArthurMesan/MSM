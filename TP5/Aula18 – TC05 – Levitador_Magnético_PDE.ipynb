{
 "cells": [
  {
   "cell_type": "markdown",
   "id": "99c60e91-037b-43a5-8576-d33fb72c8455",
   "metadata": {},
   "source": [
    "# Modelagem e Simulação Multifísica - Aula 18\n",
    "\n",
    "## Trabalho Computacional 05 - O Levitador Magnético Linear\n",
    "\n",
    "No Trabalho Computacional 01, apresentamos as equações diferenciais ordinárias que descrevem a dinâmica de um sistema de levitação magnética:\n",
    "\n",
    "\\begin{eqnarray}\n",
    "u(t) &=& RI(t) + L(x)\\frac{dI(t)}{dt} + Bl\\frac{dx(t)}{dt} \\\\\n",
    "m \\ddot x &=& mg - f_m\n",
    "\\end{eqnarray}\n",
    "\n",
    "onde $x$ é a distância entre o objeto em suspensão e o eletroímã, $I$ é a corrente na bobina, $g$ é a aceleração da gravidade, $m$ é a massa do objeto e $f_m$ é a força magnética do eletroímã.\n",
    "\n",
    "Neste trabalho, estaremos interessados em encontrar valores dos parâmetros usados no modelo dinâmico a partir da solução da equação diferencial parcial que governa o problema eletromagnético do levitador. \n",
    "\n",
    "## 1 - Conceitos básicos\n",
    "\n",
    "Considere o eletroímã apresentado a seguir:  \n",
    "\n",
    "Fig. 1 Eletroímã planar\n",
    "<p>\n",
    "    <img width=\"450\" height=\"100\" src=\"Figs/Aula16_eletroima.png\">\n",
    "</p>\n",
    "\n",
    "Assumindo que a corrente no eletroímã é constante, o problema pode ser modelado como um problema magnetostático que obedece às seguintes equações diferenciais parciais em cada ponto do domínio:\n",
    "\n",
    "\\begin{eqnarray}\n",
    "\\nabla\\cdot \\textbf{B} &=& 0, \\\\%\\label{eq_Gauss}\\\\\n",
    "\\nabla\\times \\textbf{H} &=& \\textbf{J},%\\label{eq_Ampere}\n",
    "\\end{eqnarray}\n",
    "\n",
    "onde $\\textbf{H}$ é Campo Magnético $(A/m)$, $\\textbf{B}$ é a Densidade de Fluxo Magnético dada em Tesla $(T)$ e $\\textbf{J}$ é a densidade de corrente elétrica $(A/m^2)$. Os campos $\\textbf{B}$ e $\\textbf{H}$ se relacionam com as características dos materiais através da equação constitutiva\n",
    " \n",
    "\\begin{equation}\n",
    "\\textbf{B} = \\mu\\textbf{H} %\\label{eq_constitutiva}\n",
    "\\end{equation}\n",
    "\n",
    "onde $\\mu$ é a permeabilidade magnética do material.\n",
    "\n",
    "O eletroímã, é composto por três materiais distintos sendo eles i) o cobre que compõe a bobina, ii) o material ferromagnético que compõe o eletroímã e a peça em levitação e iii) o ar que completa o domínio do problema.\n",
    "\n",
    "Tanto o ar quanto o cobre não possuem características magnéticas relevantes e suas permeabilidades magnéticas podem ser consideradas iguais a do espaço livre ($\\mu_{ar}=\\mu_{Cu}=\\mu_0=4\\pi\\cdot 10^{-7}H/m$). Já materiais ferromagnéticos, apresentam uma permeabilidade elevada quando comparada com a do espaço livre. Tipicamente, materiais ferromagnéticos tem características não lineares e a permeabilidade é geralmente obtida da curva de magnetização do material (Curva $\\textbf{B}\\times\\textbf{H}$). Entretanto, nesse trabalho iremos considera que o material ferromagnético é linear, podendo ser aproximado por $\\mu_{fer} = \\mu_r\\mu_0$, sendo $\\mu_r$ uma constante positiva. \n",
    "\n",
    "### 1.1 Aproximação analítica\n",
    "\n",
    "<p>\n",
    "    Uma <em> <a href=\"https://www.youtube.com/watch?v=A51jWH5Ar4s\"> solução analítica </a>. para esse problema pode ser obtida assumindo-se as seguintes considerações: </em>\n",
    "</p>\n",
    "\n",
    "i) O levitador irá operar fora da região de saturação da curva $\\textbf{B}\\times\\textbf{H}$, logo o valor de $\\mu$ no material ferromagnético será elevado e o campo magnético no interior desse material poderá ser desprezado.\n",
    "\n",
    "ii) Como a distância entre a peça e o eletroímã é pequena, o espraiamento das linhas de fluxo magnético poderá ser desprezado e o fluxo magnético no entreferro (região do ar entre as pontas do eletroímã e a peça) será constante e normal à superfície $S$.\n",
    "\n",
    "Nesse caso, aplicando a lei de Ampère em um caminho fechado que percorre os entreferros e os materiais ferromagnéticos temos:\n",
    "\n",
    "\\begin{eqnarray}\n",
    "\\oint_{L'(S')} \\textbf{H}\\cdot d\\textbf{l}' &=& \\int_{S'} \\textbf{J}\\cdot d\\textbf{S}'.\\nonumber\n",
    "\\end{eqnarray}\n",
    "\n",
    "Aplicando as considerações anteriores, a equação acima se reduz a\n",
    "\\begin{eqnarray}\n",
    "2Hx &=& NI,\\nonumber\n",
    "\\end{eqnarray}\n",
    "\n",
    "uma vez que o campo $\\textbf{H}$ é diferente de zero apenas dos dois entreferros que possuem comprimento $x$.\n",
    "\n",
    "Reescrevendo a equação, é possível obter o módulo do campo magnético \n",
    "\\begin{eqnarray}\n",
    "H &=& \\frac{NI}{2x}\\nonumber\n",
    "\\end{eqnarray}\n",
    "onde $N$ é o número de espiras da bobina.\n"
   ]
  },
  {
   "cell_type": "markdown",
   "id": "4ccadd3c-ee6e-48d8-b2e0-63d45d19abcb",
   "metadata": {},
   "source": [
    "### 1.2 Cálculo da Indutância\n",
    "<p>\n",
    "<em>\n",
    "Uma vez conhecido o campo magnético, podemos calcular a  <a href=\"https://www.youtube.com/watch?v=pq3QZRXfsjA\"> indutância própria </a> do eletroímã. </em>\n",
    "</p>\n",
    "\n",
    "Se lembrarmos que a indutância própria é a capacidade de uma bobina de $N$ espiras em criar o fluxo magnético $\\phi$ com uma determinada corrente $I$, podemos encontra a indutância da bobina por meio da seguinte expressão:\n",
    "\\begin{equation}\n",
    "L = \\frac{\\lambda}{I} = \\frac{N\\phi}{I},\n",
    "\\end{equation}\n",
    "onde o fluxo concatenado $\\lambda = N\\phi$ é o fluxo total enlaçado pelas $N$ espiras da bobina e o fluxo $\\phi$ representa a integral da densidade de fluxo magnético que atravessa a seção transversal das bobinas. Matematicamente:\n",
    "\\begin{equation}\n",
    "\\phi = \\int \\mathbf{B}\\cdot d\\mathbf{s}.\n",
    "\\end{equation}\n",
    "\n",
    "Desprezando-se o espraiamento no entreferro, o fluxo que atravessa as espiras será igual ao fluxo que que atravessa qualquer uma das pernas do entreferro. Como no entreferro o campo magnético é constante, a integral de superfície será igual ao produto da densidade de fluxo pela seção transversal $S$ do entreferro. \n",
    "\\begin{equation}\n",
    "\\phi = BS = \\mu_0 HS.\n",
    "\\end{equation}    \n",
    "Dessa forma, a indutância se reduz a:\n",
    "\\begin{equation}\n",
    "L = \\frac{\\mu_0 N^2S}{2x}\n",
    "\\end{equation}"
   ]
  },
  {
   "cell_type": "markdown",
   "id": "f41c82af-45b8-4bcb-b3c6-7c60715ac296",
   "metadata": {},
   "source": [
    "### 1.3 Cálculo da força magnética\n",
    "\n",
    "A força magnética pode ser obtida por meio do  <a href=\"https://www.youtube.com/watch?v=CpTi77y6yL8\"> Trabalho Virtual </a> ou por meio do <a href=\"https://www.youtube.com/watch?v=dX4rY2P9_BI8\"> Tensor de Maxwell </a>. Ambas as abordagens resultam em resultados similares, sendo apresentado aqui apenas os resultados para o Tensor de Maxwell.\n",
    "    \n",
    "Uma vez conhecido o campo magnético exterior à superfície da peça em levitação, a densidade de força por unidade de área exercida pelo campo pode ser obtida por meio do tensor de Maxwell:\n",
    "\n",
    "\\begin{eqnarray}\n",
    "\\frac{d\\textbf{F}}{ds} &=& -\\frac{\\mu_0}{2}H^2\\textbf{n}+\\mu_0(\\textbf{H}\\cdot\\textbf{n})\\textbf{H} %\\label{eq_tensorMaxwell}\n",
    "\\end{eqnarray}\n",
    "\n",
    "Integrando a equação anterior sobre a superfície da peça, lembrando que o campo $\\textbf{H}$ é normal à peça e diferente de zero apenas nos entreferros, obtemos a força exercida pelo eletroímã\n",
    "\n",
    "\\begin{eqnarray}\n",
    "F &=& \\frac{\\mu_0N^2S}{4} \\left(\\frac{I}{x} \\right)^2 \\nonumber\n",
    "\\end{eqnarray}"
   ]
  },
  {
   "cell_type": "markdown",
   "id": "6397a47f-84a6-4c79-8aa3-e2ea54b3a2d5",
   "metadata": {},
   "source": [
    "### 1.4 Cálculo do fator de força ($Bl$) e $k$\n",
    "\n",
    "O Fator de força é definido como a razão entre a força magnética e a corrente \n",
    "\\begin{equation}\n",
    "Bl = \\frac{fm}{i} = \\frac{\\mu_0N^2S}{4} \\left(\\frac{I}{x^2} \\right)\n",
    "\\end{equation}\n",
    "\n",
    "Comparando as equações de indutância e força com as utilizadas na aula 03:\n",
    "\n",
    "\\begin{eqnarray}\n",
    "L(x) &=& \\frac{k}{x} \\nonumber\\\\\n",
    "f_m(i,x) &=& \\frac{k}{2}\\left(\\frac{I}{x^2} \\right) \\nonumber\n",
    "\\end{eqnarray}\n",
    "\n",
    "é possível encontrar uma forma fechada para $k$\n",
    "\\begin{equation}\n",
    "k = \\frac{\\mu_0N^2S}{2}.\n",
    "\\end{equation}\n",
    "\n",
    "### 1.5 Cálculo da resistência\n",
    "\n",
    "Por fim, o último parâmetro a ser calculado é a resistência da bobina que pode ser obtida diretamente da condutividade do cobre $\\sigma = 58.0 (MS/m)$, da seção transversal do fio $S_f$ e do comprimento total do fio $L_f$\n",
    "\\begin{equation}\n",
    "R = \\frac{L_f}{\\sigma S_f}.\n",
    "\\end{equation}\n",
    "\n",
    "Embora o modelo apresentado proporcione a obtenção dos parâmetros de forma analítica, a geometria utilizada difere consideravelmente da utilizada no TC01, sendo de pouca aplicação prática. Na seção seguinte, um modelo mais realista é apresentado. Entretanto, ele não possui solução analítica e será resolvido utilizando o método de elementos finitos."
   ]
  },
  {
   "cell_type": "markdown",
   "id": "79ee980c-3974-4433-8b10-e0d7d4d0416c",
   "metadata": {},
   "source": [
    "## 2 - Um levitador axissimétrico\n",
    "\n",
    "O exemplo apresenta uma bobina contendo N espiras e um núcleo ferromagnético linear de permeabilidade conhecida. Abaixo da bobina está localizada uma peça ferromagnética cilíndrica. \n",
    "Todo o problema é parametrizável de forma que diferentes configurações podem ser testadas. \n",
    "No caso do enrolamento da bobina, utiliza-se como referência a padronização <a href=\"https://en.wikipedia.org/wiki/American_wire_gauge\"> AWG </a>\n",
    "\n",
    "O problema é resolvido usando simetria axissimétrica. Dessa forma, apenas a seção transversal do sólido de revolução precisa ser representada e o problema pode ser resolvido usando-se um domínio bidimensional \n",
    "\n",
    "Fig. 2 Eletroímã axissimétrico\n",
    "<p>\n",
    "    <img width=\"450\" height=\"100\" src=\"Figs/Aula16_levitadorGeoAxiss.png\">\n",
    "</p>\n",
    "\n",
    "Esse exemplo pode ser validado como o software FEMM em: https://www.femm.info/wiki/MagneticsTutorial.\n",
    "\n",
    "### 2.1 Plataforma FEniCS\n",
    "\n",
    "O problema será resolvido com o auxílio da plataforma de computação científica <a href=\"https://fenicsproject.org/\"> FEniCS </a>. As bibliotecas utilizadas são apresentadas a seguir"
   ]
  },
  {
   "cell_type": "code",
   "execution_count": 24,
   "id": "24b49392-a5cf-4d43-a4ad-8939bb5a2a49",
   "metadata": {},
   "outputs": [],
   "source": [
    "import numpy as np # For vector and matrix manipulation\n",
    "import gmsh # Interface with the software GMSH\n",
    "from scipy import integrate # to post-process the results\n",
    "\n",
    "# Visualization \n",
    "import pyvista\n",
    "from mpi4py import MPI\n",
    "import matplotlib.pyplot as plt\n",
    "\n",
    "# FEniCS\n",
    "from ufl import (SpatialCoordinate, TestFunction, TrialFunction, as_vector,\n",
    "                 dx, ds, dS, dot, grad, inner)\n",
    "from petsc4py import PETSc\n",
    "\n",
    "from dolfinx import default_scalar_type\n",
    "from dolfinx.mesh import create_mesh, compute_midpoints, locate_entities_boundary\n",
    "from dolfinx.io import gmshio, XDMFFile, VTKFile\n",
    "from dolfinx.io.gmshio import model_to_mesh\n",
    "from dolfinx.fem import (Constant, dirichletbc, Function, Expression, functionspace, assemble_scalar,\n",
    "                         form, locate_dofs_geometrical, locate_dofs_topological)\n",
    "from dolfinx.fem.petsc import LinearProblem\n",
    "from dolfinx.plot import vtk_mesh\n",
    "from dolfinx import fem"
   ]
  },
  {
   "cell_type": "markdown",
   "id": "4fc4f157-4e28-48f8-a949-2676fe1f7c4d",
   "metadata": {},
   "source": [
    "### 2.2 Parâmetros de entrada\n",
    "\n",
    "Valores comentados como default são os valores que foram usados para a comparação com o software FEMM."
   ]
  },
  {
   "cell_type": "code",
   "execution_count": 25,
   "id": "53459d86-4f27-4eec-9cc9-0b42aac899ed",
   "metadata": {},
   "outputs": [
    {
     "name": "stdout",
     "output_type": "stream",
     "text": [
      "Coil_thickness =  0.0016460936674626287 (m)\n"
     ]
    }
   ],
   "source": [
    "# --- mesh parameters ---\n",
    "tol = 0 # mesh tolerance \n",
    "\n",
    "# --- Source parameter\n",
    "I = 1.0 #(A) current (default 1.0)\n",
    "\n",
    "# --- geometry parameters ---\n",
    "\n",
    "# Core parameters\n",
    "r_core = 1.0e-2 # (m) (default 1.0e-2)\n",
    "z_core = 5.0e-2 # (m) (default 5.0e-2)\n",
    "\n",
    "mu_core = 1200 # relative permeability (default 1200)\n",
    "\n",
    "# Wire\n",
    "class AWG:\n",
    "    def __init__(self, type):\n",
    "        self.AWG = type\n",
    "        self.diameter = 0.127e-3*92**((36-type)/39) #(m)\n",
    "        self.area = np.pi/4*self.diameter**2\n",
    "        self.sigma = 58.0e6 # (S/m)\n",
    "awg = AWG(18) # (default 18)\n",
    "\n",
    "# Coil\n",
    "N = 100 # number of turns (default 100)\n",
    "Coil_thickness = N*awg.area/z_core # (m)\n",
    "r_coil = r_core + Coil_thickness # (m)\n",
    "print(\"Coil_thickness = \", Coil_thickness, \"(m)\")\n",
    "\n",
    "# Cylinder\n",
    "x_gap = .5e-2 # distance from the electromagnet (m) (default 0.5e-2)\n",
    "r_cyl = r_core # (m) (default r_core)\n",
    "z_cyl = r_core # (m) (default r_core)\n",
    "\n",
    "mu_cyl = mu_core # relative permeability  (default mu_core)\n",
    "\n",
    "# air box\n",
    "r_air = 5*r_coil  # (default 5*r_coil)\n",
    "z_air = 2.5*z_core # (default 2.5*z_core)"
   ]
  },
  {
   "cell_type": "markdown",
   "id": "64017b2b-80cd-48d7-b3d3-a9b32e395b34",
   "metadata": {},
   "source": [
    "### 2.3 Construindo a malha para o Método de Elementos Finitos"
   ]
  },
  {
   "cell_type": "code",
   "execution_count": 77,
   "id": "a45ab11d-f138-49a2-9bb0-9f817ebceb68",
   "metadata": {},
   "outputs": [
    {
     "name": "stdout",
     "output_type": "stream",
     "text": [
      "Info    : Clearing all models and views...\n",
      "Info    : Done clearing all models and views\n",
      "Info    : Meshing 1D...                                                                                                  \n",
      "Info    : [  0%] Meshing curve 1 (Line)\n",
      "Info    : [ 10%] Meshing curve 2 (Line)\n",
      "Info    : [ 20%] Meshing curve 3 (Line)\n",
      "Info    : [ 20%] Meshing curve 4 (Line)\n",
      "Info    : [ 30%] Meshing curve 5 (Line)\n",
      "Info    : [ 30%] Meshing curve 6 (Line)\n",
      "Info    : [ 40%] Meshing curve 7 (Line)\n",
      "Info    : [ 50%] Meshing curve 8 (Line)\n",
      "Info    : [ 50%] Meshing curve 9 (Line)\n",
      "Info    : [ 60%] Meshing curve 10 (Line)\n",
      "Info    : [ 60%] Meshing curve 11 (Line)\n",
      "Info    : [ 70%] Meshing curve 12 (Line)\n",
      "Info    : [ 80%] Meshing curve 13 (Line)\n",
      "Info    : [ 80%] Meshing curve 14 (Line)\n",
      "Info    : [ 90%] Meshing curve 15 (Line)\n",
      "Info    : [ 90%] Meshing curve 16 (Line)\n",
      "Info    : [100%] Meshing curve 17 (Line)\n",
      "Info    : Done meshing 1D (Wall 0.00277921s, CPU 0.003346s)\n",
      "Info    : Meshing 2D...\n",
      "Info    : [  0%] Meshing surface 2 (Plane, Frontal-Delaunay)\n",
      "Info    : [ 30%] Meshing surface 3 (Plane, Frontal-Delaunay)\n",
      "Info    : [ 60%] Meshing surface 4 (Plane, Frontal-Delaunay)\n",
      "Info    : [ 80%] Meshing surface 5 (Plane, Frontal-Delaunay)\n",
      "Info    : Done meshing 2D (Wall 0.0319886s, CPU 0.032618s)\n",
      "Info    : 1023 nodes 2122 elements\n"
     ]
    },
    {
     "name": "stderr",
     "output_type": "stream",
     "text": [
      "Warning : Gmsh has aleady been initialized\n"
     ]
    }
   ],
   "source": [
    "from mpi4py import MPI\n",
    "import gmsh\n",
    "import dolfinx.io.gmshio as gmshio\n",
    "\n",
    "rank = MPI.COMM_WORLD.rank\n",
    "\n",
    "gmsh.initialize()\n",
    "gmsh.clear()\n",
    "gmsh.model.add(\"levitador\")\n",
    "\n",
    "gdim = 2\n",
    "model_rank = 0\n",
    "mesh_comm = MPI.COMM_WORLD\n",
    "\n",
    "if mesh_comm.rank == model_rank:\n",
    "\n",
    "    # Parâmetros geométricos\n",
    "    r_air = 0.05\n",
    "    z_air = 0.1\n",
    "    r_core = 0.02\n",
    "    z_core = 0.04\n",
    "    Coil_thickness = 0.005\n",
    "    r_cyl = 0.01\n",
    "    z_cyl = 0.01\n",
    "    x_gap = 0.005\n",
    "\n",
    "    # Criar retângulos base\n",
    "    air = gmsh.model.occ.addRectangle(0, -z_air / 2, 0, r_air, z_air)\n",
    "    core = gmsh.model.occ.addRectangle(0, 0, 0, r_core, z_core)\n",
    "    coil = gmsh.model.occ.addRectangle(r_core, 0, 0, Coil_thickness, z_core)\n",
    "    cyl  = gmsh.model.occ.addRectangle(0, -x_gap, 0, r_cyl, -z_cyl)\n",
    "\n",
    "    gmsh.model.occ.synchronize()\n",
    "\n",
    "    # Fragmentar\n",
    "    gmsh.model.occ.fragment([(gdim, air)], [(gdim, core), (gdim, coil), (gdim, cyl)])\n",
    "    gmsh.model.occ.synchronize()\n",
    "\n",
    "    # Obter todas as superfícies 2D\n",
    "    surfaces = gmsh.model.getEntities(dim=gdim)\n",
    "\n",
    "    # Identificar cada região pelo centro geométrico (bounding box)\n",
    "    def get_center(tag):\n",
    "        xmin, ymin, _, xmax, ymax, _ = gmsh.model.getBoundingBox(gdim, tag)\n",
    "        return (xmin + xmax) / 2, (ymin + ymax) / 2\n",
    "\n",
    "    region_map = {}\n",
    "    for dim, tag in surfaces:\n",
    "        x, y = get_center(tag)\n",
    "        if y > 0 and x < r_core:\n",
    "            region_map[\"core_tag\"] = tag\n",
    "        elif y > 0 and x > r_core:\n",
    "            region_map[\"coil_tag\"] = tag\n",
    "        elif y < 0 and x < r_cyl:\n",
    "            region_map[\"cyl_tag\"] = tag\n",
    "        else:\n",
    "            region_map[\"air_tag\"] = tag\n",
    "\n",
    "    # Adiciona grupos físicos\n",
    "    for i, (name, tag) in enumerate(region_map.items(), start=1):\n",
    "        gmsh.model.addPhysicalGroup(gdim, [tag], tag=i, name=name)\n",
    "\n",
    "    gmsh.model.occ.synchronize()\n",
    "    gmsh.option.setNumber(\"Mesh.CharacteristicLengthMax\", r_core / 8)\n",
    "    gmsh.model.mesh.generate(gdim)\n",
    "\n",
    "# Converte para Dolfinx\n",
    "mesh_data = gmshio.model_to_mesh(gmsh.model, mesh_comm, model_rank, gdim=gdim)\n",
    "mesh = mesh_data[0]\n",
    "cell_tags = mesh_data[1]\n",
    "\n",
    "gmsh.finalize()"
   ]
  },
  {
   "cell_type": "markdown",
   "id": "3225eae9-5542-464b-abc3-e01a5505c4af",
   "metadata": {},
   "source": [
    "Mostrando a geometria e os PhysicalGroups"
   ]
  },
  {
   "cell_type": "code",
   "execution_count": 27,
   "id": "30085477-dacc-4a5d-bb0f-4ad4b201cbc4",
   "metadata": {},
   "outputs": [
    {
     "name": "stderr",
     "output_type": "stream",
     "text": [
      "error: XDG_RUNTIME_DIR is invalid or not set in the environment.\n",
      "error: XDG_RUNTIME_DIR is invalid or not set in the environment.\n"
     ]
    },
    {
     "name": "stdout",
     "output_type": "stream",
     "text": [
      "Fig. 3 Geometria do problema axissimétrico\n"
     ]
    }
   ],
   "source": [
    "import pyvista\n",
    "from dolfinx.plot import vtk_mesh\n",
    "\n",
    "# Inicia ambiente virtual de display se necessário (e.g. WSL, servidores)\n",
    "pyvista.start_xvfb()\n",
    "\n",
    "# Garante que mesh e cell_tags estão corretamente definidos\n",
    "gdim = mesh.topology.dim\n",
    "mesh.topology.create_connectivity(gdim, gdim)\n",
    "\n",
    "# Gera o grid do PyVista\n",
    "grid = pyvista.UnstructuredGrid(*vtk_mesh(mesh, gdim))\n",
    "\n",
    "# Define os marcadores das células locais\n",
    "num_local_cells = mesh.topology.index_map(gdim).size_local\n",
    "grid.cell_data[\"Marker\"] = cell_tags.values[cell_tags.indices < num_local_cells]\n",
    "grid.set_active_scalars(\"Marker\")\n",
    "\n",
    "# Cria o visualizador e adiciona a malha\n",
    "plotter = pyvista.Plotter(off_screen=True)  # off_screen=True se estiver usando WSL ou terminal\n",
    "plotter.add_mesh(grid, show_edges=True, cmap=\"viridis\", edge_color=\"black\")\n",
    "plotter.add_title('Fig. 3 Geometria do problema axissimétrico', font='courier', color='k', font_size=7)\n",
    "plotter.view_xy()\n",
    "plotter.screenshot(\"fig2_3.png\")\n",
    "print('Fig. 3 Geometria do problema axissimétrico')"
   ]
  },
  {
   "cell_type": "markdown",
   "id": "c6f60539-d069-46da-b839-6cebf481ad1d",
   "metadata": {},
   "source": [
    "## 3 - Representação do problema como um problema de valor de contorno \n",
    "\n",
    "### 3.1 Forma forte do problema magnetostático\n",
    "\n",
    "Em problemas que a densidade de corrente não é nula, definimos um potencial vetor $\\textbf{A}$ tal que:\n",
    "\n",
    "\\begin{equation}\n",
    "\\textbf{B}= \\nabla\\times\\textbf{A}\\nonumber\n",
    "\\end{equation}\n",
    "\n",
    "Essa relação é coerente com a equação de Gauss para o campo magnético $\\nabla\\cdot\\textbf{B}=0$ pois o\n",
    "$\\nabla\\cdot(\\nabla\\times\\textbf{A})$ é nulo.\n",
    "\n",
    "Podemos então aplicar essa relação na lei de Ampère da magnetostática:\n",
    "\n",
    "\\begin{eqnarray}\n",
    "\\nabla\\times\\textbf{H} &=& \\textbf{J} \\nonumber\\\\ \n",
    "\\nabla\\times(\\frac{1}{\\mu}\\nabla\\times\\textbf{A}) &=& \\textbf{J} \\nonumber\n",
    "\\end{eqnarray}\n",
    "\n",
    "Além das equações de Maxwell, é preciso garantir as condições de interface na passagem entre meios materiais\n",
    "\n",
    "\\begin{eqnarray}\n",
    "\\hat{n}\\cdot(\\textbf{B}_2-\\textbf{B}_1) &=& 0;\\; em\\,\\Gamma_{12} \\nonumber\\\\\n",
    "\\hat{n}\\times(\\textbf{H}_2-\\textbf{H}_1) &=& \\textbf{k};\\; em\\,\\Gamma_{12} \\nonumber\n",
    "\\end{eqnarray}\n",
    "\n",
    "onde $\\Gamma_{12}$ representa a fronteira entre dois materiais, como por exemplo, a fronteira entre o núcleo e a região da bobina, ou a fronteira entre a bobina e o ar. Para o nosso exemplo, a densidade linear de corrente $\\textbf{k}$ é nula, existindo apenas a densidade superficial de corrente $\\textbf{J}$.\n",
    "\n",
    "Reescrevendo as condições de interface em função do potencial vetor magnético e adicionando condições de contorno para garantir unicidade da solução, encontramos a forma forte do problema: \n",
    "\n",
    "Dado $\\mu$ e $\\textbf{J}$ encontre $A:\\bar{\\Omega}\\rightarrow \\mathbb{R}$ tal que:\n",
    "\n",
    "\\begin{eqnarray}\n",
    "\\nabla\\times(\\frac{1}{\\mu}\\nabla\\times\\textbf{A}) = \\textbf{J}; \\; \\forall x \\in \\Omega \\nonumber\\\\\n",
    "\\textbf{A} = \\textbf{A}_q; \\; \\forall x \\in \\Gamma_q \\nonumber\\\\\n",
    "\\hat{n}\\times\\frac{1}{\\mu}\\nabla\\times\\textbf{A} = \\textbf{H}_t;\\; \\forall x \\in \\Gamma_h \\nonumber\\\\\n",
    "\\hat{n}\\times(\\frac{1}{\\mu_2}\\nabla\\times\\textbf{A}_2 - \\frac{1}{\\mu_1}\\nabla\\times\\textbf{A}_1) = \\textbf{k};\\; \\forall x \\in \\Gamma_{12} \\nonumber\n",
    "\\end{eqnarray}\n",
    "\n",
    "onde $\\Gamma_{q}$ é a região da fronteira onde é imposta uma condição de Dirichlet e $\\Gamma_{h}$ representa uma região onde será imposta uma condição de Neumann. \n",
    "\n",
    "### 3.2 Condição de contorno\n",
    "\n",
    "Para o levitador axissimétrico, apenas a condição de Dirichlet Homogênea ($A=0$) é necessária, sendo imposta nas quatro bordas do domínio. Essa condição impõe que a Densidade de Fluxo Magnético deva ser tangencial à fronteira. No FEniCS essa condição é imposta conforme mostrado a seguir:"
   ]
  },
  {
   "cell_type": "code",
   "execution_count": 28,
   "id": "a02219d6-69aa-4dd7-a4a2-5afed1e2c736",
   "metadata": {},
   "outputs": [],
   "source": [
    "from dolfinx.fem import functionspace, dirichletbc, locate_dofs_topological\n",
    "from dolfinx.mesh import locate_entities_boundary\n",
    "from ufl import SpatialCoordinate\n",
    "import numpy as np\n",
    "\n",
    "# A variável 'mesh' já deve ter sido definida anteriormente pelo model_to_mesh\n",
    "# Vindo de: mesh, cell_tags = gmshio.model_to_mesh(...)\n",
    "\n",
    "V = functionspace(mesh, (\"Lagrange\", 2))\n",
    "tdim = mesh.topology.dim\n",
    "\n",
    "# Coordenada radial\n",
    "x = SpatialCoordinate(mesh)\n",
    "r = x[0]\n",
    "\n",
    "# Localiza todas as entidades de fronteira\n",
    "facets = locate_entities_boundary(mesh, tdim - 1, lambda x: np.full(x.shape[1], True))\n",
    "\n",
    "# DOFs de fronteira\n",
    "dofs = locate_dofs_topological(V, tdim - 1, facets)\n",
    "\n",
    "# Condição de contorno A = 0\n",
    "bc = dirichletbc(np.float64(0), dofs, V)"
   ]
  },
  {
   "cell_type": "markdown",
   "id": "1b0c0ad0-a26e-42d4-96ae-8795e0e0ff90",
   "metadata": {},
   "source": [
    "### 3.3 Permeabilidade Magnética ($\\mu)$\n",
    "\n",
    "No caso da permeabilidade dos materiais, tanto a permeabilidade magnética do cobre quanto a do ar são muito próximas da permeabilidade magnética do vácuo, $\\mu_0 = 4\\pi\\cdot 10^{-7}(H/m)$. Para as partes magnéticas, consideraremos os materiais lineares e isotrópicos com $\\mu_r = 1200$. Assim como no problema da bobina, usaremos os elementos descontínuos de ordem zero para definir o valor de $\\mu$ em cada elemento do domínio.  "
   ]
  },
  {
   "cell_type": "code",
   "execution_count": 29,
   "id": "fda46d56-e839-4d43-85fc-47f9de527b00",
   "metadata": {},
   "outputs": [],
   "source": [
    "from dolfinx import fem\n",
    "\n",
    "Q = fem.functionspace(mesh, (\"DG\", 0))\n",
    "mu = Function(Q) #\n",
    "\n",
    "# Permeability\n",
    "mu0 = Constant(mesh, PETSc.ScalarType(4e-7*np.pi))\n",
    "muf = Constant(mesh, PETSc.ScalarType(1200*4e-7*np.pi))\n",
    "\n",
    "# List of elements in each domain\n",
    "core_elements = cell_tags.find(1) # core_tag = 1 \n",
    "coil_elements = cell_tags.find(2) # coil_tag = 2\n",
    "cyl_elements = cell_tags.find(3) # cyl_tag = 3 \n",
    "air_elements = cell_tags.find(4) # air_tag = 4\n",
    "\n",
    "# Defining the permeability values\n",
    "mu.x.array[core_elements] = np.full_like(core_elements, muf, dtype=default_scalar_type)\n",
    "mu.x.array[coil_elements] = np.full_like(coil_elements, mu0, dtype=default_scalar_type)\n",
    "mu.x.array[cyl_elements] = np.full_like(cyl_elements, muf, dtype=default_scalar_type)\n",
    "mu.x.array[air_elements] = np.full_like(air_elements, mu0, dtype=default_scalar_type)"
   ]
  },
  {
   "cell_type": "markdown",
   "id": "ae0814dd-a6f3-498e-b876-289ab5432d53",
   "metadata": {},
   "source": [
    "### 3.4 Encontrando a densidade de corrente (J)\n",
    "Como a seção transversal do fio AWG é conhecida, a densidade de corrente pode ser calculada de duas formas distintas. \n",
    "i) corrente do fio sobre a área do fio ou \n",
    "ii) corrente total (NI) sobre a área da bobina. Os dois resultados devem ser equivalentes se a relação área total igual a N vezes a área do fio for mantida.\n"
   ]
  },
  {
   "cell_type": "code",
   "execution_count": 30,
   "id": "c4709e36-f49f-4d05-89fd-555409458d5b",
   "metadata": {},
   "outputs": [
    {
     "name": "stdout",
     "output_type": "stream",
     "text": [
      "current density, J = 1214997.6878793903\n",
      "current density, J = 500000.0\n"
     ]
    }
   ],
   "source": [
    "# J obtained from the wire's area:\n",
    "j = I/awg.area\n",
    "print('current density, J =',j)\n",
    "\n",
    "# J obtained from the total area:\n",
    "j = N*I/(Coil_thickness * z_core)\n",
    "print('current density, J =',j)\n",
    "\n",
    "# Creates a function J in the space Q that is non-zero only inside the coil\n",
    "J = Function(Q)\n",
    "Js = Constant(mesh, PETSc.ScalarType(j))\n",
    "J.x.array[coil_elements] = np.full_like(coil_elements, Js, dtype=default_scalar_type)"
   ]
  },
  {
   "cell_type": "markdown",
   "id": "506cf85f-7c4e-414b-9d43-9d785dbf9b4b",
   "metadata": {},
   "source": [
    "Reparem que os resultados são iguais. Entretanto, em problemas reais, o isolamento do fio e o fato das bobinas não se encaixarem perfeitamente faz com que a área da bobina seja um pouco maior do que N*área do fio.\n",
    "\n",
    "## 4 - Construção da forma variacional\n",
    "\n",
    "A forma variacional para esse problema é exatamente a mesma do problema axissimétrico da bobina o espaço livre, a única diferença são os materiais envolvidos."
   ]
  },
  {
   "cell_type": "code",
   "execution_count": 31,
   "id": "ab0832fc-8a54-43a5-9021-96fbd5be1a19",
   "metadata": {},
   "outputs": [
    {
     "data": {
      "text/plain": [
       "Coefficient(FunctionSpace(Mesh(blocked element (Basix element (P, triangle, 1, equispaced, unset, False, float64, []), (2,)), 1), Basix element (P, triangle, 2, gll_warped, unset, False, float64, [])), 17)"
      ]
     },
     "execution_count": 31,
     "metadata": {},
     "output_type": "execute_result"
    }
   ],
   "source": [
    "import ufl\n",
    "# Define Trial and Test functions\n",
    "u = TrialFunction(V)\n",
    "v = TestFunction(V)\n",
    "\n",
    "dx = ufl.Measure(\"dx\", domain=mesh, subdomain_data=cell_tags);\n",
    "\n",
    "# Variational equation with cylindrical coordinates\n",
    "a = (1 / mu) * (1 / r) * dot(grad(u), grad(v)) * dx\n",
    "\n",
    "# Source term of the axially symmetric weak form\n",
    "L = J * v * dx\n",
    "\n",
    "# Solving the linear problem\n",
    "A_ = Function(V) # A_ = r*A_alpha\n",
    "problem = LinearProblem(a, L, u=A_, bcs=[bc])\n",
    "problem.solve()"
   ]
  },
  {
   "cell_type": "markdown",
   "id": "130cc816-812e-42bc-9382-b3cbfb01e7cf",
   "metadata": {},
   "source": [
    "## 5 - Pós-processamento dos resultados\n",
    "\n",
    "### 5.1 Potencial Vetor Magnético"
   ]
  },
  {
   "cell_type": "code",
   "execution_count": 32,
   "id": "c120ac24-b426-4097-884c-e586bbae87e2",
   "metadata": {
    "scrolled": true
   },
   "outputs": [
    {
     "name": "stderr",
     "output_type": "stream",
     "text": [
      "error: XDG_RUNTIME_DIR is invalid or not set in the environment.\n",
      "error: XDG_RUNTIME_DIR is invalid or not set in the environment.\n"
     ]
    },
    {
     "data": {
      "text/plain": [
       "pyvista_ndarray([[[255, 255, 255],\n",
       "                  [255, 255, 255],\n",
       "                  [255, 255, 255],\n",
       "                  ...,\n",
       "                  [255, 255, 255],\n",
       "                  [255, 255, 255],\n",
       "                  [255, 255, 255]],\n",
       "\n",
       "                 [[255, 255, 255],\n",
       "                  [255, 255, 255],\n",
       "                  [255, 255, 255],\n",
       "                  ...,\n",
       "                  [255, 255, 255],\n",
       "                  [255, 255, 255],\n",
       "                  [255, 255, 255]],\n",
       "\n",
       "                 [[255, 255, 255],\n",
       "                  [255, 255, 255],\n",
       "                  [255, 255, 255],\n",
       "                  ...,\n",
       "                  [255, 255, 255],\n",
       "                  [255, 255, 255],\n",
       "                  [255, 255, 255]],\n",
       "\n",
       "                 ...,\n",
       "\n",
       "                 [[255, 255, 255],\n",
       "                  [255, 255, 255],\n",
       "                  [255, 255, 255],\n",
       "                  ...,\n",
       "                  [255, 255, 255],\n",
       "                  [255, 255, 255],\n",
       "                  [255, 255, 255]],\n",
       "\n",
       "                 [[255, 255, 255],\n",
       "                  [255, 255, 255],\n",
       "                  [255, 255, 255],\n",
       "                  ...,\n",
       "                  [255, 255, 255],\n",
       "                  [255, 255, 255],\n",
       "                  [255, 255, 255]],\n",
       "\n",
       "                 [[255, 255, 255],\n",
       "                  [255, 255, 255],\n",
       "                  [255, 255, 255],\n",
       "                  ...,\n",
       "                  [255, 255, 255],\n",
       "                  [255, 255, 255],\n",
       "                  [255, 255, 255]]], dtype=uint8)"
      ]
     },
     "execution_count": 32,
     "metadata": {},
     "output_type": "execute_result"
    }
   ],
   "source": [
    "# Creates the plotter\n",
    "plotter = pyvista.Plotter()\n",
    "\n",
    "# Converts the mesh to an UnstructuredGrid\n",
    "A_grid = pyvista.UnstructuredGrid(*vtk_mesh(V))\n",
    "\n",
    "# Adds the A_z field data to the grid\n",
    "A_grid.point_data[\"A_\"] = A_.x.array\n",
    "A_grid.set_active_scalars(\"A_\")\n",
    "\n",
    "# Applies the deformation based on the A_z field\n",
    "warp = A_grid.warp_by_scalar(\"A_\")\n",
    "\n",
    "# Adds the deformed mesh to the plotter\n",
    "actor = plotter.add_mesh(warp, show_edges=False)\n",
    "actor = plotter.add_title(\n",
    "    'Fig. 4 Potencial vetor magnético', font='courier', color='k', font_size=7)\n",
    "\n",
    "plotter.view_xy()\n",
    "plotter.screenshot(\"fig_5_1.png\")\n"
   ]
  },
  {
   "cell_type": "markdown",
   "id": "968ab87a-2a28-485f-bfa6-4f6d560e75cb",
   "metadata": {},
   "source": [
    "### 5.2 Densidade de Fluxo Magnético ($\\mathbf{B}$) e Campo Magnético ($\\mathbf{H}$)"
   ]
  },
  {
   "cell_type": "code",
   "execution_count": 33,
   "id": "ae48ff43-a012-4bbb-ba28-a82c1f934a00",
   "metadata": {},
   "outputs": [],
   "source": [
    "from dolfinx.fem import Expression, Function, functionspace\n",
    "from ufl import as_vector\n",
    "import numpy as np\n",
    "\n",
    "W = functionspace(mesh, (\"DG\", 0, (mesh.geometry.dim,)))\n",
    "B = Function(W)\n",
    "\n",
    "# Pontos de interpolação manualmente extraídos\n",
    "interp_points = W.element.interpolation_points\n",
    "\n",
    "# Expressão para B = curl A (em coordenadas axissimétricas)\n",
    "B_expr = Expression(as_vector((-(1/r)*A_.dx(1), (1/r)*A_.dx(0))), interp_points)\n",
    "B.interpolate(B_expr)\n",
    "\n",
    "# Campo magnético H = B / mu\n",
    "H = Function(W)\n",
    "H_expr = Expression(as_vector((-(1/(r*mu))*A_.dx(1), (1/(r*mu))*A_.dx(0))), interp_points)\n",
    "H.interpolate(H_expr)"
   ]
  },
  {
   "cell_type": "markdown",
   "id": "3103fc68-5bb9-4a03-b583-336e945c01c3",
   "metadata": {},
   "source": [
    "#### 5.2.1 Gráfico de  ($\\mathbf{B}$)"
   ]
  },
  {
   "cell_type": "code",
   "execution_count": 34,
   "id": "c641daaf-a299-4a21-a1f2-fd78e3eabaa8",
   "metadata": {},
   "outputs": [
    {
     "name": "stderr",
     "output_type": "stream",
     "text": [
      "error: XDG_RUNTIME_DIR is invalid or not set in the environment.\n",
      "error: XDG_RUNTIME_DIR is invalid or not set in the environment.\n"
     ]
    }
   ],
   "source": [
    "# Iterpolate B again to mach vtk_mesh DoF.\n",
    "Wl = functionspace(mesh, (\"Lagrange\", 2, (mesh.geometry.dim, )))\n",
    "Bl = Function(Wl)\n",
    "Bl.interpolate(B)\n",
    "\n",
    "pyvista.start_xvfb()\n",
    "topology, cell_types, geo = vtk_mesh(V)\n",
    "values = np.zeros((geo.shape[0], 3), dtype=np.float64)\n",
    "values[:, :len(Bl)] = Bl.x.array.real.reshape((geo.shape[0], len(Bl)))\n",
    "\n",
    "# Create a point cloud of glyphs\n",
    "function_grid = pyvista.UnstructuredGrid(topology, cell_types, geo)\n",
    "function_grid[\"Bl\"] = values\n",
    "glyphs = function_grid.glyph(orient=\"Bl\", factor=.3)\n",
    "\n",
    "# Create a pyvista-grid for the mesh\n",
    "mesh.topology.create_connectivity(mesh.topology.dim, mesh.topology.dim)\n",
    "grid = pyvista.UnstructuredGrid(*vtk_mesh(mesh, mesh.topology.dim))\n",
    "\n",
    "# Create plotter\n",
    "plotter = pyvista.Plotter()\n",
    "#plotter.add_mesh(grid, style=\"wireframe\", color=\"k\")\n",
    "plotter.add_mesh(glyphs)\n",
    "plotter.view_xy()\n",
    "actor = plotter.add_title(\n",
    "    'Fig. 5 Densidade de fluxo magnético', font='courier', color='k', font_size=7)\n",
    "#plotter.window_size = [1000, 250];\n",
    "#plotter.camera.zoom(3)\n",
    "plotter.screenshot(\"grafico_5_2_1.png\");"
   ]
  },
  {
   "cell_type": "markdown",
   "id": "5f613cf9-1fa1-4df7-ae0c-de415f15a612",
   "metadata": {},
   "source": [
    "#### 5.2.2 Gráfico de  ($\\mathbf{H}$)\n",
    "\n",
    "Como $\\mathbf{H} = \\mathbf{B}/\\mu$, podemos observar que o campo magnético tende a zero nos materiais com $\\mu$ elevado, validando a aproximação analítica apresentada anteriormente. "
   ]
  },
  {
   "cell_type": "code",
   "execution_count": 35,
   "id": "f5d89839-baa3-48fc-9a4e-b5a2ea52a9e5",
   "metadata": {},
   "outputs": [
    {
     "name": "stderr",
     "output_type": "stream",
     "text": [
      "error: XDG_RUNTIME_DIR is invalid or not set in the environment.\n",
      "error: XDG_RUNTIME_DIR is invalid or not set in the environment.\n"
     ]
    }
   ],
   "source": [
    "# Iterpolate H again to mach vtk_mesh DoF.\n",
    "Wl = functionspace(mesh, (\"Lagrange\", 2, (mesh.geometry.dim, )))\n",
    "Hl = Function(Wl)\n",
    "Hl.interpolate(H)\n",
    "\n",
    "pyvista.start_xvfb()\n",
    "topology, cell_types, geo = vtk_mesh(V)\n",
    "values = np.zeros((geo.shape[0], 3), dtype=np.float64)\n",
    "values[:, :len(Hl)] = Hl.x.array.real.reshape((geo.shape[0], len(Hl)))\n",
    "\n",
    "# Create a point cloud of glyphs\n",
    "function_grid = pyvista.UnstructuredGrid(topology, cell_types, geo)\n",
    "function_grid[\"Hl\"] = values\n",
    "glyphs = function_grid.glyph(orient=\"Hl\", factor=1.5e-6)\n",
    "\n",
    "# Create a pyvista-grid for the mesh\n",
    "mesh.topology.create_connectivity(mesh.topology.dim, mesh.topology.dim)\n",
    "grid = pyvista.UnstructuredGrid(*vtk_mesh(mesh, mesh.topology.dim))\n",
    "\n",
    "# Create plotter\n",
    "plotter = pyvista.Plotter()\n",
    "#plotter.add_mesh(grid, style=\"wireframe\", color=\"k\")\n",
    "plotter.add_mesh(glyphs)\n",
    "plotter.view_xy()\n",
    "actor = plotter.add_title(\n",
    "    'Fig. 6 Campo magnético', font='courier', color='k', font_size=7)\n",
    "#plotter.window_size = [1000, 250];\n",
    "#plotter.camera.zoom(3)\n",
    "plotter.screenshot(\"fig_5_2_2.png\");"
   ]
  },
  {
   "cell_type": "code",
   "execution_count": 36,
   "id": "c4c347dd-3dc1-4e72-9a10-181ba8031498",
   "metadata": {},
   "outputs": [],
   "source": [
    "# Campo magnético H = B / mu\n",
    "H = Function(W)\n",
    "H_expr = Expression(as_vector((-(1/(r*mu))*A_.dx(1), (1/(r*mu))*A_.dx(0))), interp_points)\n",
    "H.interpolate(H_expr)"
   ]
  },
  {
   "cell_type": "code",
   "execution_count": 37,
   "id": "4ba6c066-c678-4e35-abd1-eef159fbf4df",
   "metadata": {},
   "outputs": [
    {
     "data": {
      "image/png": "[encoded data removed]",
      "text/plain": [
       "<Figure size 600x400 with 1 Axes>"
      ]
     },
     "metadata": {},
     "output_type": "display_data"
    }
   ],
   "source": [
    "import numpy as np\n",
    "import matplotlib.pyplot as plt\n",
    "from dolfinx.fem import Function, functionspace, Expression\n",
    "from ufl import dx\n",
    "\n",
    "# Espaço escalar de ordem 2\n",
    "W_scalar = functionspace(mesh, (\"Lagrange\", 2))\n",
    "Bz = Function(W_scalar)\n",
    "\n",
    "# Interpola Bz = (1/r) * dA/dr\n",
    "Bz_expr = Expression((1 / r) * A_.dx(0), W_scalar.element.interpolation_points)\n",
    "Bz.interpolate(Bz_expr)\n",
    "\n",
    "# Obtém coordenadas dos graus de liberdade\n",
    "dof_coords = W_scalar.tabulate_dof_coordinates()\n",
    "bz_vals_all = Bz.x.array\n",
    "\n",
    "# Filtra os DoFs com r ≈ 0\n",
    "r_tol = 5e-3\n",
    "mask = np.abs(dof_coords[:, 0]) < r_tol\n",
    "z_vals = dof_coords[mask, 1]\n",
    "bz_vals = bz_vals_all[mask]\n",
    "\n",
    "# Ordena pelo eixo z\n",
    "sorted_indices = np.argsort(z_vals)\n",
    "z_vals = z_vals[sorted_indices]\n",
    "bz_vals = bz_vals[sorted_indices]\n",
    "\n",
    "# Plota\n",
    "plt.figure(figsize=(6, 4))\n",
    "plt.plot(z_vals, bz_vals, label=r\"$B_z$ próximo ao eixo $r \\approx 0$\", color='blue')\n",
    "plt.xlabel(r\"$z$ [m]\")\n",
    "plt.ylabel(r\"$B_z$ [T]\")\n",
    "plt.title(r\"Campo $B_z$ ao longo do eixo central\")\n",
    "plt.grid(True)\n",
    "plt.legend()\n",
    "plt.tight_layout()\n",
    "plt.savefig(\"fig_5_1_Bz_no_eixo.png\", dpi=300)\n",
    "plt.show()"
   ]
  },
  {
   "cell_type": "code",
   "execution_count": 38,
   "id": "8fbf0b79-1ad6-4d7d-89aa-fa05128c509a",
   "metadata": {},
   "outputs": [],
   "source": [
    "W = functionspace(mesh, (\"DG\", 0, (mesh.geometry.dim,)))\n",
    "H = Function(W)\n",
    "H_expr = Expression(as_vector((-(1/(r*mu))*A_.dx(1), (1/(r*mu))*A_.dx(0))), W.element.interpolation_points)\n",
    "H.interpolate(H_expr)"
   ]
  },
  {
   "cell_type": "code",
   "execution_count": 39,
   "id": "6c25ef9c-2f6d-4c0a-a0ab-7fa7ab809a09",
   "metadata": {},
   "outputs": [],
   "source": [
    "W_scalar = functionspace(mesh, (\"Lagrange\", 2))\n",
    "Hr = Function(W_scalar)\n",
    "Hz = Function(W_scalar)\n",
    "\n",
    "Hr.interpolate(H.sub(0))\n",
    "Hz.interpolate(H.sub(1))"
   ]
  },
  {
   "cell_type": "markdown",
   "id": "2448aa22-a551-4d53-9d24-0f070f029a6d",
   "metadata": {},
   "source": [
    "## Componentes de Hz e Hr ao longo da superfície do imã"
   ]
  },
  {
   "cell_type": "code",
   "execution_count": 40,
   "id": "cdddd9b7-ed82-4e07-857d-cdd4f9344b3f",
   "metadata": {
    "scrolled": true
   },
   "outputs": [
    {
     "data": {
      "image/png": "[encoded data removed]",
      "text/plain": [
       "<Figure size 600x400 with 1 Axes>"
      ]
     },
     "metadata": {},
     "output_type": "display_data"
    }
   ],
   "source": [
    "import numpy as np\n",
    "import matplotlib.pyplot as plt\n",
    "\n",
    "# Espaço vetorial de ordem 2 para H\n",
    "W_vec = functionspace(mesh, (\"Lagrange\", 2, (mesh.geometry.dim, )))\n",
    "H_lagrange = Function(W_vec)\n",
    "H_lagrange.interpolate(H)\n",
    "\n",
    "# Coordenadas dos graus de liberdade\n",
    "dof_coords = W_vec.tabulate_dof_coordinates()\n",
    "Hr_vals_all = H_lagrange.x.array[::2]  # Componente radial (x)\n",
    "Hz_vals_all = H_lagrange.x.array[1::2]  # Componente axial (y)\n",
    "\n",
    "# Filtra os pontos com r ≈ r_cyl (superfície lateral do cilindro magnético)\n",
    "r_tol = 1e-3\n",
    "mask_r = np.abs(dof_coords[:, 0] - r_cyl) < r_tol\n",
    "\n",
    "z_vals = dof_coords[mask_r, 1]\n",
    "Hr_vals = Hr_vals_all[mask_r]\n",
    "Hz_vals = Hz_vals_all[mask_r]\n",
    "\n",
    "# Ordena por z\n",
    "idx = np.argsort(z_vals)\n",
    "z_vals = z_vals[idx]\n",
    "Hr_vals = Hr_vals[idx]\n",
    "Hz_vals = Hz_vals[idx]\n",
    "\n",
    "# Plota os gráficos\n",
    "plt.figure(figsize=(6, 4))\n",
    "plt.plot(z_vals, Hr_vals, label=r\"$H_r$\", color='red')\n",
    "plt.plot(z_vals, Hz_vals, label=r\"$H_z$\", color='green')\n",
    "plt.xlabel(r\"$z$ [m]\")\n",
    "plt.ylabel(r\"Componente de $H$ [A/m]\")\n",
    "plt.title(r\"Componentes de $H$ ao longo da superfície do ímã ($r = r_\\mathrm{cyl}$)\")\n",
    "plt.grid(True)\n",
    "plt.legend()\n",
    "plt.tight_layout()\n",
    "plt.savefig(\"fig_Hr_Hz_r_cyl.png\", dpi=300)\n",
    "plt.show()"
   ]
  },
  {
   "cell_type": "markdown",
   "id": "f7529a37-a879-43a3-aefe-2781d616d544",
   "metadata": {},
   "source": [
    "## Força Magnética Axial"
   ]
  },
  {
   "cell_type": "code",
   "execution_count": 41,
   "id": "6568f6ac-5e6b-43ec-8dd6-9d3492698e76",
   "metadata": {},
   "outputs": [
    {
     "name": "stdout",
     "output_type": "stream",
     "text": [
      "Força magnética axial total (Fz) ≈ -8.4067e+01 N\n"
     ]
    }
   ],
   "source": [
    "from dolfinx.mesh import locate_entities_boundary, meshtags\n",
    "from dolfinx.fem import assemble_scalar\n",
    "from dolfinx.fem import form\n",
    "from ufl import Identity, inner, dot, outer, FacetNormal, as_vector, SpatialCoordinate, Measure\n",
    "import numpy as np\n",
    "\n",
    "# 1. Define o ID da marcação (pode ser qualquer número, ex: 5)\n",
    "marker_cyl = 5\n",
    "r_cyl = 0.01  # Substitua pelo valor real do raio do cilindro\n",
    "tol = 5e-3    # Tolerância para detectar a lateral do cilindro\n",
    "\n",
    "# 2. Marca as faces com r ≈ r_cyl\n",
    "def lateral_cylinder_boundary(x):\n",
    "    return np.isclose(x[0], r_cyl, atol=tol)\n",
    "\n",
    "facets = locate_entities_boundary(mesh, mesh.topology.dim - 1, lateral_cylinder_boundary)\n",
    "facet_tags = meshtags(mesh, mesh.topology.dim - 1, facets, np.full(len(facets), marker_cyl, dtype=np.int32))\n",
    "\n",
    "# 3. Medida restrita à superfície lateral\n",
    "ds_cyl = Measure(\"ds\", domain=mesh, subdomain_data=facet_tags)\n",
    "\n",
    "# 4. Tensor de Maxwell: T = H⊗H - 0.5 * (H·H) * I\n",
    "I = Identity(2)\n",
    "T = outer(H, H) - 0.5 * inner(H, H) * I\n",
    "\n",
    "# 5. Vetor normal e coordenada radial\n",
    "n = FacetNormal(mesh)\n",
    "x = SpatialCoordinate(mesh)\n",
    "r = x[0]\n",
    "\n",
    "# 6. Componente z da força magnética\n",
    "fz_expr = dot(T * n, as_vector((0.0, 1.0)))\n",
    "\n",
    "# 7. Integral para força axial\n",
    "fz_form = 2 * np.pi * r * fz_expr * ds_cyl(marker_cyl)\n",
    "\n",
    "# 8. Avaliação\n",
    "\n",
    "Fz = assemble_scalar(form(fz_form))\n",
    "\n",
    "\n",
    "print(f\"Força magnética axial total (Fz) ≈ {Fz:.4e} N\")"
   ]
  },
  {
   "cell_type": "code",
   "execution_count": 42,
   "id": "f61dc785-4081-4433-8c1d-7d057338cf13",
   "metadata": {},
   "outputs": [
    {
     "name": "stdout",
     "output_type": "stream",
     "text": [
      "[  11   17   26   32 2867 2868 2869 2888]\n"
     ]
    }
   ],
   "source": [
    "print(facets)"
   ]
  },
  {
   "cell_type": "markdown",
   "id": "f89d4ace-e292-41ea-8faa-9fa16f256cf2",
   "metadata": {},
   "source": [
    "### 5.3 Indutância\n",
    "\n",
    "A indutância pode ser calculada de duas maneiras distintas: i) Por meio da relação entre o fluxo total e a corrente de entrada ou ii) pela relação entre a energia total do sistema e a corrente. \n",
    "\n",
    "#### 5.3.1 Utilizando o fluxo magnético\n",
    "\n",
    "Conforme apresentado anteriormente, podemos encontras a indutância da bobina por meio da seguinte expressão:\n",
    "\\begin{equation}\n",
    "L = \\frac{N\\phi}{I},\n",
    "\\end{equation}\n",
    "\n",
    "Entretanto, é possível observar a partir da fig. 4 que $\\mathbf{B}$ não é constante ao longo das bobinas. Isso fica mais evidente se traçarmos o gráfico do $|B|$ sobre o eixo vertical de simetria do problema."
   ]
  },
  {
   "cell_type": "code",
   "execution_count": 43,
   "id": "23bc54ae-67ef-4dfb-b05e-5fc9bf0fc3c0",
   "metadata": {},
   "outputs": [
    {
     "data": {
      "text/plain": [
       "Text(0, 0.5, '$|B|$')"
      ]
     },
     "execution_count": 43,
     "metadata": {},
     "output_type": "execute_result"
    },
    {
     "data": {
      "image/png": "[encoded data removed]",
      "text/plain": [
       "<Figure size 800x500 with 1 Axes>"
      ]
     },
     "metadata": {},
     "output_type": "display_data"
    }
   ],
   "source": [
    "import matplotlib.pyplot as plt \n",
    "from dolfinx import geometry\n",
    "\n",
    "#Creating a balanced tree with the elements of the mesh\n",
    "bb_tree = geometry.bb_tree(mesh, mesh.topology.dim) \n",
    "\n",
    "# sample points\n",
    "tol = 1e-6\n",
    "z_points = np.linspace(-z_air/2 + tol, z_air/2-tol, 101)\n",
    "r_points = np.full_like(z_points, 0)\n",
    "points = np.zeros((3, 101))\n",
    "points[0] = r_points\n",
    "points[1] = z_points\n",
    "\n",
    "B_values = []\n",
    "cells = []\n",
    "points_on_proc = []\n",
    "\n",
    "# Find cells whose bounding-box collide with the the points\n",
    "cell_candidates = geometry.compute_collisions_points(bb_tree, points.T)\n",
    "# Choose one of the cells that contains the point\n",
    "colliding_cells = geometry.compute_colliding_cells(mesh, cell_candidates, points.T)\n",
    "for i, point in enumerate(points.T):\n",
    "    if len(colliding_cells.links(i)) > 0:\n",
    "        points_on_proc.append(point)\n",
    "        cells.append(colliding_cells.links(i)[0])\n",
    "\n",
    "points_on_proc = np.array(points_on_proc, dtype=np.float64)\n",
    "B_values = B.eval(points_on_proc, cells)\n",
    "\n",
    "# plot horizontal line\n",
    "fig = plt.figure(figsize=(8,5))\n",
    "plt.plot(z_points, B_values[:,0], 'y', linewidth=2); # magnify w\n",
    "plt.plot(z_points, B_values[:,1], 'g', linewidth=2); # magnify w\n",
    "plt.grid(True);\n",
    "\n",
    "# Core and Cylinder boundaries\n",
    "plt.plot(np.array([0,0]),np.array([0,np.max(B_values[:,1])]),'-.b', linewidth=1.5);\n",
    "plt.plot(np.array([-x_gap,-x_gap]),np.array([0,np.max(B_values[:,1])]),'-.g', linewidth=1.5);\n",
    "plt.plot(np.array([z_core,z_core]),np.array([0,np.max(B_values[:,1])]),'-.b', linewidth=1.5);\n",
    "plt.plot(np.array([-x_gap-r_cyl,-x_gap-r_cyl]),np.array([0,np.max(B_values[:,1])]),'-.g',linewidth=1.5);\n",
    "\n",
    "\n",
    "plt.legend(['Br (T)','Bz (T)', 'Core boudaries', 'Cylinder boundaries'], loc='upper left');\n",
    "fig.suptitle(\"Fig. 7 Indução magnética\");\n",
    "plt.grid(True)\n",
    "plt.xlabel('$z$ (m), r = 0')\n",
    "plt.ylabel('$|B|$')\n",
    "\n"
   ]
  },
  {
   "cell_type": "markdown",
   "id": "3929d042-31f8-4718-9de0-af8b8e4d5c48",
   "metadata": {},
   "source": [
    "A figura 7 mostra que, à medida que andamos verticalmente sobre o eixo de simetria ($r=0$), a intensidade do fluxo magnético varia, sendo máxima no centro do núcleo ferromagnético da bobina. Isso tem impacto no cálculo da indutância uma vez que espiras diferentes são enlaçadas por quantidades de fluxo diferentes. \n",
    "\n",
    "A figura 8 apresenta o componente vertical da densidade de fluxo magnético $B_z$ em função do raio $r$. Para essa figura, a altura $z$ é mantida fixa no centro da bobina. \n",
    "\n",
    "A partir da figura 7, é possível observar que o campo é relativamente constante dentro do núcleo, havendo uma transição abrupta na interface com o enrolamento. Essa transição indica que as linhas de fluxo percorrem o núcleo no sentido positivo de $z$ e retornam pelo ar (no sentido negativo de $z$). \n",
    "\n",
    "Repare que foi definida apenas uma variável (*Mesh.CharacteristicLengthMax*) que controla a qualidade global da malha. Dessa forma, poucos elementos são usados para representar o enrolamento, resultando na característica pontiaguda da curva. Recomenda-se que o estudante teste diferentes densidades de malha, bem como diferentes tamanhos de retângulos de ar para ver o impacto na qualidade e custo computacional do problema.\n"
   ]
  },
  {
   "cell_type": "code",
   "execution_count": 44,
   "id": "4626e989-fbbe-4f35-a9ea-5577857774e6",
   "metadata": {},
   "outputs": [
    {
     "data": {
      "text/plain": [
       "Text(0, 0.5, '$B$')"
      ]
     },
     "execution_count": 44,
     "metadata": {},
     "output_type": "execute_result"
    },
    {
     "data": {
      "image/png": "[encoded data removed]",
      "text/plain": [
       "<Figure size 800x500 with 1 Axes>"
      ]
     },
     "metadata": {},
     "output_type": "display_data"
    }
   ],
   "source": [
    "# Plot B\n",
    "r_line = np.linspace(tol , r_air, 101)\n",
    "z_line = z_core/2*np.ones(np.shape(r_line))\n",
    "\n",
    "points = np.zeros((3, 101))\n",
    "points[0] = r_line\n",
    "points[1] = z_line\n",
    "\n",
    "B_values = []\n",
    "cells = []\n",
    "points_on_proc = []\n",
    "\n",
    "# Find cells whose bounding-box collide with the the points\n",
    "cell_candidates = geometry.compute_collisions_points(bb_tree, points.T)\n",
    "# Choose one of the cells that contains the point\n",
    "colliding_cells = geometry.compute_colliding_cells(mesh, cell_candidates, points.T)\n",
    "for i, point in enumerate(points.T):\n",
    "    if len(colliding_cells.links(i)) > 0:\n",
    "        points_on_proc.append(point)\n",
    "        cells.append(colliding_cells.links(i)[0])\n",
    "\n",
    "points_on_proc = np.array(points_on_proc, dtype=np.float64)\n",
    "B_values = B.eval(points_on_proc, cells)\n",
    "\n",
    "# plot horizontal line\n",
    "fig = plt.figure(figsize=(8,5))\n",
    "plt.plot(r_line, B_values[:,0], 'y', linewidth=2); # magnify w\n",
    "plt.plot(r_line, B_values[:,1], 'g', linewidth=2); # magnify w\n",
    "plt.grid(True);\n",
    "\n",
    "\n",
    "plt.legend(['Br (T)','Bz (T)'], loc='upper right');\n",
    "fig.suptitle(\"Fig. 7 Indução magnética\");\n",
    "plt.grid(True)\n",
    "plt.xlabel('$r$ (m), z = r_core/2')\n",
    "plt.ylabel('$B$')"
   ]
  },
  {
   "cell_type": "markdown",
   "id": "195ccb81-7c95-4e9c-8b8e-923e65fb73cc",
   "metadata": {},
   "source": [
    "Uma vez conhecida a densidade de fluxo no interior da bobina, podemos encontrar a indutância. Uma aproximação simples consiste em assumir que $\\mathbf{B}$ é constante no interior da bobina e pode ser aproximado pelo valor no centro do núcleo. Nesse caso temos:\n",
    "\\begin{eqnarray}\n",
    "\\phi &\\approx& \\int_0^{2\\pi}\\int_0^{r_{core}} \\mathbf{B}\\cdot rd\\alpha dr\\hat{z} \\nonumber \\\\ \n",
    "     &\\approx& 2\\pi\\int_0^{r_{core}} B_z r dr \\nonumber \\\\\n",
    "     &\\approx& \\pi r_{core}^2 B_z, \\\\\n",
    "\\end{eqnarray}\n",
    "\n",
    "e a indutância é dada por\n",
    "\\begin{equation}\n",
    "L = \\frac{N\\pi r_{core}^2 B_z}{I}. \n",
    "\\end{equation}"
   ]
  },
  {
   "cell_type": "code",
   "execution_count": 48,
   "id": "dc0cf471-01dd-42d1-aa85-27707766f02c",
   "metadata": {},
   "outputs": [
    {
     "name": "stdout",
     "output_type": "stream",
     "text": [
      "Bz = 0.006238692262884145 (T)\n",
      "phi = 7.839771912433725e-06 (Wb)\n",
      "L = 0.0007839771912433724 (H)\n"
     ]
    }
   ],
   "source": [
    "I_current = 1.0  # ou dolfinx.fem.Constant se quiser simbólico\n",
    "\n",
    "Bz = B_values[0, 1]\n",
    "phi = np.pi * r_core**2 * Bz\n",
    "L_phi = N * phi / I_current\n",
    "\n",
    "print('Bz =', Bz, '(T)')\n",
    "print('phi =', phi, '(Wb)')\n",
    "print('L =', L_phi, '(H)')"
   ]
  },
  {
   "cell_type": "markdown",
   "id": "20be7d70-4d74-4070-9cd3-1b4804a14ac1",
   "metadata": {},
   "source": [
    "#### Utilizando a energia armazenada no Campo Magnético\n",
    "\n",
    "A energia armazenada em um indutor na forma de Campo Magnético é dada por:\n",
    "\\begin{equation}\n",
    "W = \\frac{1}{2}LI^2. \n",
    "\\end{equation}\n",
    "\n",
    "Alternativamente, essa energia pode ser obtida integrando-se a densidade de energia magnética distribuída no volume. Para meios lineares temos:\n",
    "\n",
    "\\begin{equation}\n",
    "W = \\int \\frac{1}{2}\\mathbf{B}\\cdot\\mathbf{H} dv = \\int \\frac{1}{2\\mu}|B|^2dv. \n",
    "\\end{equation}\n",
    "\n",
    "Lembrando que para o problema axissimétrico:\n",
    "\\begin{equation}\n",
    "W = 2\\pi \\int_{-z_{air}}^{z_{air}}\\int_{0}^{r_{air}} \\frac{1}{2\\mu}|B|^2rdrdz,\n",
    "\\end{equation}\n",
    "cuja integral pode ser facilmente computada pelo *FEniCS* por meio da função *assemble()*. Dessa forma, a indutância pode ser estimada como: \n",
    "\n",
    "\\begin{equation}\n",
    "L = \\frac{2W}{I^2}. \n",
    "\\end{equation}"
   ]
  },
  {
   "cell_type": "code",
   "execution_count": 52,
   "id": "d6cb38f3-3208-4964-8652-e291a7ab82f2",
   "metadata": {},
   "outputs": [
    {
     "name": "stdout",
     "output_type": "stream",
     "text": [
      "Energy = 3.625885e-04 (J)\n",
      "L = 7.251771e-04 (H)\n"
     ]
    }
   ],
   "source": [
    "from ufl import Identity\n",
    "I = Identity(2)\n",
    "I_current = 1.0  # corrente elétrica como escalar\n",
    "\n",
    "Energy = np.pi * fem.assemble_scalar(fem.form(r / mu * dot(B, B) * dx))\n",
    "L_w = 2 * Energy / I_current**2\n",
    "\n",
    "print(\"Energy = {:.6e} (J)\".format(Energy))\n",
    "print(\"L = {:.6e} (H)\".format(L_w))"
   ]
  },
  {
   "cell_type": "markdown",
   "id": "fa3aabef-a0a7-4d82-b7af-0ef270b6c452",
   "metadata": {},
   "source": [
    "#### Comparando as duas abordagens\n",
    "\n",
    "Reparem que ambas as abordagens apresentam resultados semelhantes. Contudo, a abordagem por meio do cálculo da energia não apresenta a simplificação de campo constante ao longo do cilindro. Adicionalmente, quando o comprimento da bobina é muito maior que sua seção transversal, e na ausência da peça cilíndrica, ambos os resultados tendem à aproximação analítica. \n",
    "\\begin{equation}\n",
    "L = \\frac{\\mu\\pi r^2N}{L}.\n",
    "\\end{equation}"
   ]
  },
  {
   "cell_type": "code",
   "execution_count": 53,
   "id": "e0a2c4ec-2e9d-48cb-8792-271b8c4d274a",
   "metadata": {},
   "outputs": [
    {
     "name": "stdout",
     "output_type": "stream",
     "text": [
      "Results:\n",
      "L(phi) =  0.0007839771912433724 (H)\n",
      "L(W) =  0.000725177099387201 (H)\n",
      "\n",
      "L(phi)/L(W) =  1.0810837682351795 \n",
      "\n",
      "Analytical Solution L =  0.004737410112522892 (H)\n",
      "L(W)/L(ana) =  0.15307458762547588 (H)\n"
     ]
    }
   ],
   "source": [
    "print('Results:')\n",
    "print('L(phi) = ', L_phi, '(H)')\n",
    "print('L(W) = ', L_w, '(H)\\n')\n",
    "print('L(phi)/L(W) = ', L_phi/L_w, '\\n')\n",
    "L_ana = 1200*(4e-7*np.pi)*np.pi*r_core**2*N/z_core\n",
    "print('Analytical Solution L = ', L_ana, '(H)')\n",
    "print('L(W)/L(ana) = ', L_w/L_ana, '(H)')"
   ]
  },
  {
   "cell_type": "markdown",
   "id": "78e00921-5cde-4a09-9f4e-5e189d1f81d8",
   "metadata": {},
   "source": [
    "### Força magnética\n",
    "\n",
    "Uma vez conhecido o campo magnético sobre a superfície da peça em levitação, a densidade de força por unidade de área exercida pelo campo pode ser obtida por meio do Tensor de Maxwell.\n",
    "\n",
    "Integrando a densidade de força $d\\textbf{F}$ sobre a superfície da peça obtemos a força total exercida pelo eletroímã. No caso da peça cilíndrica representada com simetria axissimétrica, temos três superfícies de interesse: i) a superfície superior da peça, ii) a superfície inferior e iii) a superfície lateral. Para cada superfície, o vetor normal $\\hat{n}$ é igual a $+\\hat{z}$, $+\\hat{r}$ e $-\\hat{z}$ respectivamente. A figura 8 apresenta os valores das componentes $H_z$ e $H_r$ ao longo de cada superfície. Reparem que o campo $H_z$ é predominante na superfície superior da peça, sendo essa a principal componente responsável pela força."
   ]
  },
  {
   "cell_type": "code",
   "execution_count": 54,
   "id": "57be32e1-aa1d-46a1-bef2-71aa2b472091",
   "metadata": {},
   "outputs": [
    {
     "name": "stdout",
     "output_type": "stream",
     "text": [
      "(303, 2)\n"
     ]
    },
    {
     "data": {
      "image/png": "[encoded data removed]",
      "text/plain": [
       "<Figure size 1500x400 with 3 Axes>"
      ]
     },
     "metadata": {},
     "output_type": "display_data"
    }
   ],
   "source": [
    "# Lines on surfaces\n",
    "tol2 = 1e-8\n",
    "r_line = np.linspace(tol , r_cyl, 101)\n",
    "\n",
    "# Points on each surface\n",
    "points_up = np.zeros((3, 101))\n",
    "points_down = np.zeros((3, 101))\n",
    "points_side = np.zeros((3, 101))\n",
    "\n",
    "# suf_up\n",
    "points_up[0] = r_line\n",
    "points_up[1] = (-x_gap+tol2)*np.ones(101)\n",
    "# suf_down\n",
    "points_down[0] = r_line\n",
    "points_down[1] = (-x_gap-r_cyl-tol2)*np.ones(101)\n",
    "#suf_side\n",
    "points_side[0] = (r_cyl+tol2)*np.ones(101)\n",
    "points_side[1] = -r_line-x_gap\n",
    "\n",
    "points = np.concatenate((points_up, points_down, points_side), axis=1)\n",
    "\n",
    "# H on surfaces\n",
    "H_values = []\n",
    "H_up = []\n",
    "H_down = []\n",
    "H_side = []\n",
    "\n",
    "cells = []\n",
    "points_on_proc = []\n",
    "\n",
    "# Find cells whose bounding-box collide with the the points\n",
    "cell_candidates = geometry.compute_collisions_points(bb_tree, points.T)\n",
    "# Choose one of the cells that contains the point\n",
    "colliding_cells = geometry.compute_colliding_cells(mesh, cell_candidates, points.T)\n",
    "for i, point in enumerate(points.T):\n",
    "    if len(colliding_cells.links(i)) > 0:\n",
    "        points_on_proc.append(point)\n",
    "        cells.append(colliding_cells.links(i)[0])\n",
    "\n",
    "points_on_proc = np.array(points_on_proc, dtype=np.float64)\n",
    "H_values = H.eval(points_on_proc, cells)\n",
    "\n",
    "print(np.shape(H_values))\n",
    "[H_up, H_down, H_side] = np.split(H_values, 3, axis=0)\n",
    "\n",
    "# plot\n",
    "fig = plt.figure(figsize=(15,4))\n",
    "#print('Fig. 6 - Campo H nas superfícies da peça em levitação \\n')\n",
    "# suf_up\n",
    "plt.subplot(1, 3, 1);\n",
    "plt.plot(r_line, H_up[:,0],'b')\n",
    "plt.plot(r_line, H_up[:,1],'g')\n",
    "plt.legend(['$H_r$ (A/m)','$H_z$ (A/m)'], loc='center left');\n",
    "plt.grid(True)\n",
    "plt.xlabel('$r$ (m)')\n",
    "plt.ylabel('$H$')\n",
    "plt.title('Fig. 8 - Campo H nas superfícies da peça em levitação \\n a) superfície superior');\n",
    "\n",
    "# suf_down\n",
    "plt.subplot(1, 3, 2);\n",
    "plt.plot(r_line, H_down[:,0],'b')\n",
    "plt.plot(r_line, H_down[:,1],'g')\n",
    "#plt.legend(['$H_r$ (A/m)','$H_z$ (A/m)'], loc='center left');\n",
    "plt.grid(True)\n",
    "plt.xlabel('$r$ (m)')\n",
    "#plt.ylabel('$H$')\n",
    "plt.title('b) superfície inferior');\n",
    "\n",
    "# suf_side\n",
    "plt.subplot(1, 3, 3);\n",
    "plt.plot(-x_gap-r_line, H_side[:,0],'b')\n",
    "plt.plot(-x_gap-r_line, H_side[:,1],'g')\n",
    "#plt.legend(['$H_r$ (A/m)','$H_z$ (A/m)'], loc='center left');\n",
    "plt.grid(True)\n",
    "plt.xlabel('$z$ (m)')\n",
    "#plt.ylabel('$H$')\n",
    "plt.title('b) superfície lateral');"
   ]
  },
  {
   "cell_type": "markdown",
   "id": "ded555e2-147a-4eb8-96e3-898b7767c272",
   "metadata": {},
   "source": [
    "#### Integral na superfície superior\n",
    "\n",
    "Na superfície superior $\\hat{n} = \\hat{z}$, resultando em: \n",
    "\\begin{eqnarray}\n",
    "\\frac{d\\textbf{F}}{ds} &=& -\\frac{\\mu_0}{2}\\left(H_r^2+H_z^2\\right)\\hat{z}+\\mu_0 H_z\\left(H_r\\hat{r}+H_z\\hat{z}\\right) \\nonumber\\\\\n",
    "&=& \\mu_0 H_zH_r\\hat{r} + \\frac{\\mu_0}{2}\\left(H_z^2-H_r^2\\right)\\hat{z}.\n",
    "\\end{eqnarray}\n",
    "\n",
    "Consequentemente, a parcela da força total referente à superfície superior será igual a:\n",
    "\\begin{eqnarray}\n",
    "\\mathbf{F_{sup}}&=& \\int_0^{2\\pi}\\int_0^{r_{cyl}} \\left[ \\mu_0 H_z H_r\\hat{r} + \\frac{\\mu_0}{2}\\left(H_z^2-H_r^2\\right) \\hat{z}\\right]  rd\\alpha dr \\nonumber \\\\ \n",
    "&=& 2\\pi\\mu_0 \\int_0^{r_{cyl}} \\frac{1}{2}(H_z^2-H_r^2) r dr \\hat{z}\n",
    "\\end{eqnarray}\n",
    "onde a componente $F_r$ é eliminada da integral devido à natureza axissimétrica do problema, ($H_r(\\alpha)=-H_r(-\\alpha))$. \n",
    "\n",
    "Avaliando a equação:"
   ]
  },
  {
   "cell_type": "code",
   "execution_count": 55,
   "id": "a0f62fad-7421-44dd-98a3-eb3ae756b6dd",
   "metadata": {},
   "outputs": [
    {
     "name": "stdout",
     "output_type": "stream",
     "text": [
      "F_sup =  0.0007918673920254229 (N)\n"
     ]
    }
   ],
   "source": [
    "# using scipy to integ\n",
    "mi0 = 4e-7*np.pi\n",
    "df_z = np.pi*mi0*(H_up[:,1]**2 -H_up[:,0]**2)*r_line\n",
    "F_sup = integrate.simpson(df_z, x=r_line)\n",
    "print('F_sup = ', F_sup ,'(N)')"
   ]
  },
  {
   "cell_type": "markdown",
   "id": "3df8067c-f2bf-4a78-9160-288ff61dd6a2",
   "metadata": {},
   "source": [
    "#### Integral na superfície inferior\n",
    "\n",
    "Na superfície superior $\\hat{n} = -\\hat{z}$, logo:\n",
    "\\begin{eqnarray}\n",
    "\\frac{d\\textbf{F}}{ds} &=& +\\frac{\\mu_0}{2}\\left(H_r^2+H_z^2\\right)\\hat{z}-\\mu_0 H_z\\left(H_r\\hat{r}+H_z\\hat{z}\\right) \\nonumber\\\\\n",
    "&=& -\\mu_0 H_zH_r\\hat{r} + \\frac{\\mu_0}{2}\\left(H_r^2-H_z^2\\right)\\hat{z}.\n",
    "\\end{eqnarray}\n",
    "\n",
    "Consequentemente, a parcela da força total referente à superfície inferior será igual a:\n",
    "\\begin{eqnarray}\n",
    "\\mathbf{F_{inf}} &=& -2\\pi\\mu_0 \\int_0^{r_{cyl}} \\frac{1}{2}(H_z^2-H_r^2) r dr\\hat{z}\n",
    "\\end{eqnarray}\n",
    "\n",
    "Avaliando a equação:"
   ]
  },
  {
   "cell_type": "code",
   "execution_count": 56,
   "id": "837b4d16-ace3-44e0-b040-bc3fdb44b1d3",
   "metadata": {},
   "outputs": [
    {
     "name": "stdout",
     "output_type": "stream",
     "text": [
      "F_inf =  -0.00024520868653054673 (N)\n"
     ]
    }
   ],
   "source": [
    "df_z = -np.pi*mi0*(H_down[:,1]**2 -H_down[:,0]**2)*r_line\n",
    "F_inf = integrate.simpson(df_z, x=r_line)\n",
    "print('F_inf = ', F_inf ,'(N)')"
   ]
  },
  {
   "cell_type": "markdown",
   "id": "0fc307a4-2de3-4cab-a1ca-bfedc7ad5482",
   "metadata": {},
   "source": [
    "#### Integral na superfície lateral\n",
    "\n",
    "Na superfície superior $\\hat{n} = \\hat{r}$, resultando em: \n",
    "\\begin{eqnarray}\n",
    "\\frac{d\\textbf{F}}{ds} &=& -\\frac{\\mu_0}{2}\\left(H_r^2+H_z^2\\right)\\hat{r}+\\mu_0 H_r\\left(H_r\\hat{r}+H_z\\hat{z}\\right) \\nonumber\\\\\n",
    "&=& \\frac{\\mu_0}{2}\\left(H_r^2-H_z^2\\right)\\hat{z} +\\mu_0 H_rH_z\\hat{z}.\n",
    "\\end{eqnarray}\n",
    "\n",
    "Consequentemente, a parcela da força total referente à superfície lateral será igual a:\n",
    "\\begin{eqnarray}\n",
    "\\mathbf{F_{lat}}&=& \\int_0^{2\\pi}\\int_{-x}^{-x-z_{cyl}} \\left[\\frac{\\mu_0}{2}\\left(H_r^2-H_z^2\\right)\\hat{r} + \\mu_0 H_r H_z\\hat{z} \\right]r_{cyl}d\\alpha dz  \\nonumber \\\\ \n",
    "&=& 2\\pi\\mu_0 \\int_{-x}^{-x-z_{cyl}} H_rH_z r_{cyl} dz \\hat{z}\n",
    "\\end{eqnarray}\n",
    "onde a componente $F_r$ é eliminada da integral devido à natureza axissimétrica do problema. \n",
    "\n",
    "Avaliando a equação:"
   ]
  },
  {
   "cell_type": "code",
   "execution_count": 57,
   "id": "a1ee1079-580f-46bf-86c2-1040e79e8d60",
   "metadata": {},
   "outputs": [
    {
     "name": "stdout",
     "output_type": "stream",
     "text": [
      "F_lat =  -6.179861647696647e-05 (N)\n"
     ]
    }
   ],
   "source": [
    "df_z = 2*np.pi*mi0*(H_side[:,0]*H_side[:,1])*r_cyl\n",
    "F_lat = integrate.simpson(df_z, x=r_line)\n",
    "print('F_lat = ', F_lat ,'(N)')"
   ]
  },
  {
   "cell_type": "markdown",
   "id": "a52568bf-1112-46da-9554-0f0f8aea181e",
   "metadata": {},
   "source": [
    "#### Força total\n",
    "\n",
    "Como resultado, a força total é a soma algébrica das contribuições individuais das superfícies. Como esperado, o termo proveniente da superfície superior é predominante."
   ]
  },
  {
   "cell_type": "code",
   "execution_count": 58,
   "id": "7f39186a-b4df-4ecc-b004-94ca0f75333e",
   "metadata": {},
   "outputs": [
    {
     "name": "stdout",
     "output_type": "stream",
     "text": [
      "F_total =  0.0004848600890179097 (N)\n",
      "Erro (%) em relação ao software FEMM:  -76.06362056960785\n"
     ]
    }
   ],
   "source": [
    "F_tot = F_sup + F_inf  + F_lat \n",
    "print('F_total = ', F_tot ,'(N)')\n",
    "F_femm = 0.00202562 # result using the FEMM software.\n",
    "print('Erro (%) em relação ao software FEMM: ', 100*(F_tot-F_femm)/F_femm)"
   ]
  },
  {
   "cell_type": "markdown",
   "id": "e65e1109-882f-48c8-94b6-e7993c1570f6",
   "metadata": {},
   "source": [
    "#### Cálculo do tensor de Maxwell usando as funções *FacetNormal()* e *assemble()*\n",
    "\n",
    "O cálculo da força total, conforme apresentado anteriormente, foi possível devido à geometria bem definida da peça em levitação. Entretanto, ao substituir a peça cilíndrica por uma esférica, seria necessário trocar as três integrais de superfície por uma integral ao longo do arco que representa a projeção bidimensional da esfera. Felizmente, existe um método automatizado para calcular integrais de componentes normais (ou tangenciais) de um campo vetorial nas interfaces do domínio. Esse método utiliza as funções *FacetNormal()* e *assemble()*.\n",
    "\n",
    "A função *FacetNormal()* retorna o vetor normal às fronteiras de uma determinada malha, enquanto a função *assemble()* realiza integrações numéricas sobre um domínio ($dx$) ou sobre sua fronteira ($ds$).\n",
    "\n",
    "Para ilustrar o uso da função *assemble()* e a definição da fronteira $ds$, utilizaremos essas ferramentas para calcular a soma dos perímetros das três superfícies de integração mencionadas na seção anterior: (i) a superfície superior da peça, (ii) a superfície inferior e (iii) a superfície lateral.\n",
    "\n",
    "O primeiro passo para utilizar a função assemble() é construir o elemento de integração ($ds$), que define quais arestas da malha compõem a fronteira externa da peça cilíndrica. Existem diferentes abordagens para construir esse elemento. Neste exemplo, utilizaremos a função *locate_entities()* para identificar as arestas na superfície da peça. Essa informação é armazenada em um objeto do tipo *meshtag*, juntamente com uma tag de identificação. Alternativamente, o processo de identificação da região de interesse poderia ser realizado previamente no GMSH por meio dos *physical groups*."
   ]
  },
  {
   "cell_type": "code",
   "execution_count": 59,
   "id": "2c0c5cf5-1e2a-41c7-8524-b7678718cab7",
   "metadata": {},
   "outputs": [],
   "source": [
    "from dolfinx.mesh import locate_entities, meshtags\n",
    "\n",
    "# Boolean functions to find the edges of the cylinder\n",
    "def on_top(x): \n",
    "    return np.logical_and(x[0]<=r_cyl,np.isclose(x[1], -x_gap))\n",
    "def on_bottom(x):\n",
    "    return np.logical_and(x[0]<=r_cyl,np.isclose(x[1], -x_gap-z_cyl))\n",
    "def on_side(x):\n",
    "    return np.logical_and(np.isclose(x[0], r_cyl), np.logical_and(x[1]<=-x_gap,x[1]>=-x_gap-z_cyl))\n",
    "    \n",
    "# Finding the edges on the cylinder surfaces using the locate_entitiesy function\n",
    "top_facets = locate_entities( # list of all edges  on the upper surface\n",
    "    mesh,gdim -1, on_top) \n",
    "bottom_facets = locate_entities( # list of all edges on the bottom surface\n",
    "    mesh,gdim -1, on_bottom)\n",
    "side_facets = locate_entities( # list of all edges on the side surface\n",
    "    mesh,gdim -1, on_side)\n",
    "\n",
    "cyl_facets = top_facets\n",
    "cyl_facets = np.append(cyl_facets, bottom_facets)\n",
    "cyl_facets = np.append(cyl_facets, side_facets)\n",
    "\n",
    "# Creating a label for each surface\n",
    "# Defining a marker equal to \"1\" for the top edges, \"2\" for the bottom and \"3\" for the side ones. \n",
    "facet_markers = np.ones(np.shape(top_facets),dtype=np.int32)\n",
    "facet_markers = np.append(facet_markers,2*np.ones(np.shape(bottom_facets),dtype=np.int32))\n",
    "facet_markers = np.append(facet_markers,3*np.ones(np.shape(side_facets),dtype=np.int32))\n",
    "\n",
    "# a dolfinx.meshMes class that associate data (markers) with a subset of mesh entities of a given dimension.\n",
    "facet_tag = meshtags(mesh, gdim-1, cyl_facets, facet_markers)\n",
    "\n",
    "# Defining a surface integration element that operates only on the defined edges\n",
    "ds = ufl.Measure(\"dS\", domain=mesh, subdomain_data=facet_tag)"
   ]
  },
  {
   "cell_type": "markdown",
   "id": "e4e02bf2-aa0b-412b-9797-fce49b35af3e",
   "metadata": {},
   "source": [
    "O elemento $d_s$ possui a informação de todas as arestas selecionadas e suas tags. Como as arestas devidamente identificadas, podemos criar o elemento de integração e usar a função *assemble()* para calcular o perímetro. Reparem que usaremos apenas os elementos de $ds$ marcados com os índices 1-3."
   ]
  },
  {
   "cell_type": "code",
   "execution_count": 60,
   "id": "4a7e3210-6c5c-4f38-8dfa-8cc97b5a85ea",
   "metadata": {},
   "outputs": [
    {
     "name": "stdout",
     "output_type": "stream",
     "text": [
      "perimeter =  0.01 (m)\n",
      "perimeter2 =  0.01 (m)\n",
      "perimeter3 =  0.009999999999999998 (m)\n"
     ]
    }
   ],
   "source": [
    "# Function assemble simple test\n",
    "perimeter = fem.assemble_scalar(fem.form(1*ds(1))) \n",
    "perimeter2 = fem.assemble_scalar(fem.form(1*ds(2))) \n",
    "perimeter3 = fem.assemble_scalar(fem.form(1*ds(3))) \n",
    "\n",
    "print('perimeter = ', perimeter, '(m)')\n",
    "print('perimeter2 = ', perimeter2, '(m)')\n",
    "print('perimeter3 = ', perimeter3, '(m)')"
   ]
  },
  {
   "cell_type": "markdown",
   "id": "26bb5502-fb9a-4e9c-a36e-c616bc5d56d1",
   "metadata": {},
   "source": [
    "#### Cálculo da Força\n",
    "\n",
    "Como a função *assemble()* retorna um escalar, a densidade de força $d\\textbf{F}$ deve ser decomposta em suas componentes $dF_r$ e $dF_z$. Por simetria, $dF_r=0$, sendo necessário apenas encontrar a componente $dF_z$. \n",
    "\n",
    "\\begin{eqnarray}\n",
    "%{dF_r} &=& 2\\pi\\left[ -\\frac{\\mu_0}{2}(H_r^2+H_z^2)n_r + \\mu_0(H_r\\cdot n_r+ H_z\\cdot n_z)H_r\\right]rds \\\\\n",
    "{dF_z} &=& \\left[ -\\frac{\\mu_0}{2}(H_r^2+H_z^2)n_z + \\mu_0(\\textbf{H}\\cdot \\hat{n})H_z\\right]ds \n",
    "\\end{eqnarray}\n",
    "onde $n_r$ e $n_z$ são as projeções do vetor normal unitário, obtidas por meio da função *FacetNormal()*."
   ]
  },
  {
   "cell_type": "code",
   "execution_count": 61,
   "id": "88d36819-3e7c-47a6-aca6-e4d70579341b",
   "metadata": {},
   "outputs": [
    {
     "name": "stdout",
     "output_type": "stream",
     "text": [
      "Fz 1 =  -6.522141281816834e-10 (N)\n",
      "Fz 2 =  -0.00024823660426555815 (N)\n",
      "Fz 3 =  -5.777789762775121e-05 (N)\n",
      "F_tot =  -0.00030601515410743756 (N)\n",
      "\n",
      "Comparando com o resultado anterior:\n",
      "\n",
      "Erro (%) =  -163.11411498671197\n"
     ]
    }
   ],
   "source": [
    "n = ufl.FacetNormal(mesh) \n",
    "\n",
    "F_z = list()\n",
    "for i in range(3):\n",
    "    dF_z = fem.form(2*np.pi*mi0*r*( -0.5*( H[0]('-')**2+H[1]('-')**2 )*n[1]('+') + dot(H('-'),n('+'))*H[1]('-') )*ds(i+1) + Constant(mesh, PETSc.ScalarType(0.0))*dx(3));\n",
    "    F_z.append(fem.assemble_scalar(dF_z));\n",
    "    print('Fz',i+1,'= ', F_z[i] ,'(N)')\n",
    "\n",
    "F_tot2 = F_z[0]+F_z[1]+F_z[2]\n",
    "print('F_tot = ', F_tot2,'(N)\\n')\n",
    "\n",
    "print('Comparando com o resultado anterior:\\n')\n",
    "print('Erro (%) = ', 100*(F_tot2-F_tot)/F_tot)"
   ]
  },
  {
   "cell_type": "markdown",
   "id": "5b7aba0a-de8c-4552-846f-7680d3f0c5e1",
   "metadata": {},
   "source": [
    "Repare que a função de integração é a mesma para cada interface, o que muda é apenas o elemento de integração $ds$. Entretanto, o resultado está correto apenas para a primeira integral.\n",
    "\n",
    "Alguns detalhes merecem ser observados: i) A função Measure() recebe o argumento 'dS' (S maiúsculo), que indica que as interfaces que estamos definindo estão dentro do domínio. Logo, a interface pode pertencer simultaneamente a dois elementos. Quando usamos o argumento 'ds' (s minúsculo), apenas a fronteira externa do domínio é selecionada, e o vetor normal é definido para fora da malha. ii) É necessário definir a orientação das grandezas vetoriais por meio dos argumentos ('+') e ('-'), uma vez que, dentro do domínio, não temos uma definição de dentro ou fora para o vetor normal. Os argumentos ('+') e ('-') também são usados no Campo Magnético para definir em qual elemento iremos avaliar o campo. Veja na Fig. 6 que o campo $H$ é descontínuo na interface entre a peça e o ar. No caso do tensor de Maxwell, estamos interessados no Campo Magnético exterior à peça em levitação. Dependendo da escolha dos argumentos de orientação, os resultados das integrais serão diferentes. Recomenda-se que o aluno avalie diferentes configurações.\n",
    "\n",
    "Para resolver a ambiguidade do Campo Magnético e da orientação do vetor normal nas versões antigas do FEniCS, a função assemble() recebia um argumento adicional (*Constant(0)dx(3)) que indica que estamos integrando também uma constante nula no subdomínio 3 (peça cilíndrica). Embora o valor dessa integral seja nulo, ela era usada para padronizar a orientação do vetor normal. Dessa forma, a orientação ('+') é definida 'para fora' da peça cilíndrica e é usada juntamente com o vetor normal $n$. No caso do campo $\\textbf{H}$, deveríamos usar a orientação ('-') para avaliar o campo externo à peça. Entretanto, esse tipo de solução não está disponível na versão 0.9.0.0 usada neste notebook.\n",
    "\n",
    "Para essa versão, iremos construir um elemento de integração 'ds' (s minúsculo). Por ser um elemento de integração externo, cada aresta está associada apenas a um único elemento. Nesse caso, teremos que criar essa associação manualmente, seguindo os passos descritos <em> <a href=\"https://fenicsproject.discourse.group/t/wrong-facetnormal-vector-on-internal-boundaries/12887/2\"> aqui </a>."
   ]
  },
  {
   "cell_type": "code",
   "execution_count": 62,
   "id": "5c4d1c0a-e99e-469c-abf2-80458c831ab2",
   "metadata": {},
   "outputs": [],
   "source": [
    "# Create connectivties required for defining integration entities\n",
    "mesh.topology.create_entities(gdim-1)\n",
    "mesh.topology.create_connectivity(gdim-1, gdim)\n",
    "mesh.topology.create_connectivity(gdim, gdim-1)\n",
    "\n",
    "# Give a set of facets, get a consistent orientation for an interior integral\n",
    "facets_to_integrate = facet_tag.find(1)\n",
    "facets_to_integrate = np.append(facets_to_integrate, facet_tag.find(2))\n",
    "facets_to_integrate = np.append(facets_to_integrate, facet_tag.find(3))\n",
    "#print('facets_to_integrate', facets_to_integrate)\n",
    "\n",
    "# f_to_c generates, for each edge, the list of elements in which it appears.\n",
    "f_to_c = mesh.topology.connectivity(gdim-1, gdim)\n",
    "# c_to_f performs the opposite operation.\n",
    "c_to_f = mesh.topology.connectivity(gdim, gdim-1)\n",
    "\n",
    "#From f_to_c, we can see that each edge is shared by two elements, and we only want the ones belonging to the air region (air_tag = 4).\n",
    "\n",
    "# Compute integration entities for a single facet of a cell.\n",
    "# Each facet is represented as a tuple (cell_index, local_facet_index), where cell_index is local to process\n",
    "# local_facet_index is the local indexing of a facet for a given cell\n",
    "integration_entities = []\n",
    "for i, facet in enumerate(facets_to_integrate):\n",
    "    # Find cells connected to facet\n",
    "    cells = f_to_c.links(facet)\n",
    "    # Get value of cells\n",
    "    marked_cells = cell_tags.values[cells]\n",
    "    # Get the cell marked with 4\n",
    "    correct_cell = np.flatnonzero(marked_cells == 4)\n",
    "    \n",
    "    assert len(correct_cell) == 1\n",
    "    # Get local index of facet\n",
    "    local_facets = c_to_f.links(cells[correct_cell[0]])\n",
    "    local_index = np.flatnonzero(local_facets == facet)\n",
    "    assert len(local_index) == 1\n",
    "\n",
    "    # Append integration entities\n",
    "    integration_entities.append(cells[correct_cell[0]])\n",
    "    integration_entities.append(local_index[0])\n",
    "\n",
    "#print('integration_entities', integration_entities)\n",
    "# Create custom integration measure for one-sided integrals\n",
    "ds2 = ufl.Measure(\"ds\", domain=mesh, subdomain_data=[\n",
    "                 (1, np.asarray(integration_entities, dtype=np.int32))])"
   ]
  },
  {
   "cell_type": "markdown",
   "id": "be94c532-a71e-4356-9ec4-1e36379c1f8c",
   "metadata": {},
   "source": [
    "Com o novo elemento de integração, a dualidade na definição dos termos é eliminada, e a integral se resume a:"
   ]
  },
  {
   "cell_type": "code",
   "execution_count": 63,
   "id": "2232128b-a1b3-4026-aa49-1f1c8facceda",
   "metadata": {},
   "outputs": [
    {
     "name": "stdout",
     "output_type": "stream",
     "text": [
      "F_tot =  0.0004873893098336037 (N)\n",
      "\n",
      "Comparando com o primeiro resultado:\n",
      "Erro (%) =  0.5216393085306353\n"
     ]
    }
   ],
   "source": [
    "dF_z = fem.form(2*np.pi*mi0*r*( -0.5*( H[0]**2+H[1]**2 )*-n[1] + dot(H,-n)*H[1])*ds2(1))\n",
    "F_tot3 = fem.assemble_scalar(dF_z)\n",
    "\n",
    "print('F_tot = ', F_tot3,'(N)\\n')\n",
    "print('Comparando com o primeiro resultado:')\n",
    "print('Erro (%) = ', 100*(F_tot3-F_tot)/F_tot)"
   ]
  },
  {
   "cell_type": "markdown",
   "id": "18d4c81a-965e-4a64-97a9-9a36d14c8edf",
   "metadata": {},
   "source": [
    "## 6 - Comparação com o modelo circuital\n",
    "\n",
    "### Indutância e força magnética\n",
    "\n",
    "Assim como no exemplo analítico, a solução do problema possibilita o cálculo dos parâmetros usados no modelo ODE do problema. Uma vez parametrizado o problema, pode-se resolver o modelo para diferentes posições de $x$ a fim de se levantar as curvas $L(x)$ e $f_m(i,x)$. Reparem que como o modelo é linear, não é necessário varia a corrente durante as simulações. O mesmo não é verdade se considerarmos a curva $B\\times H$ do material ferromagnético.  \n",
    "\n",
    "### Constante $k$ \n",
    "\n",
    "Um ponto interessante a ser observado é que a relação entre os parâmetros circuitais e os parâmetros mecânicos foram definidos a parti de uma constante de proporcionalidade $k$ onde:\n",
    "\\begin{eqnarray}\n",
    "L(x)&=& \\frac{k}{x} \\\\ \n",
    "f_m(I,x) &=& \\frac{k}{2}\\left(\\frac{I}{x}\\right)^2\n",
    "\\end{eqnarray}\n",
    "\n",
    "Reescrevendo as equações:\n",
    "\\begin{eqnarray}\n",
    "k &=& xL(x) \\\\ \n",
    "k &=& 2f_m\\left(\\frac{x}{I}\\right)^2\n",
    "\\end{eqnarray}\n",
    "\n",
    "Todavia, usando os resultados para encontrar k obtemos:"
   ]
  },
  {
   "cell_type": "code",
   "execution_count": 64,
   "id": "3362a4ec-65cf-45a9-9090-399b1fa56c55",
   "metadata": {},
   "outputs": [
    {
     "name": "stdout",
     "output_type": "stream",
     "text": [
      "k(L) =  3.625885496936005e-06\n",
      "k(f_m) =  2.4243004450895486e-08 / ((I) : (I))\n",
      "k(L)/k(f_m) =  3.625885496936005e-06 / 2.4243004450895486e-08 / ((I) : (I))\n"
     ]
    }
   ],
   "source": [
    "k1=L_w*x_gap\n",
    "print('k(L) = ',k1)\n",
    "\n",
    "k2 = 2*F_tot*x_gap**2/I**2\n",
    "print('k(f_m) = ', k2)\n",
    "print('k(L)/k(f_m) = ', k1/k2)"
   ]
  },
  {
   "cell_type": "markdown",
   "id": "1c3676c9-dd25-489e-8cdd-f70ab39d10ad",
   "metadata": {},
   "source": [
    "A justificativa para tal diferença encontra-se no fato que as relações acima foram obtidas considerando que todas as linhas de campo geradas pela bobina passarão pela peça em levitação. Isso foi verdade para o levitador analítico e tanto a indutância quando a força magnética puderam ser representadas por um $k$ constante. Contudo, para o levitador axissimétrico, uma parcela das linhas de campo circula o eletroímã sem entrar em contato com a peça em levitação. Essa parcela de fluxo contribui para a indutância, mas não impacta a força magnética. Isso justificaria as constantes diferentes."
   ]
  },
  {
   "cell_type": "markdown",
   "id": "16bae2d0-b57f-4382-8046-55c3e1fb5863",
   "metadata": {},
   "source": [
    "### Resistência\n",
    "\n",
    "Finalmente, a resitência do levitador axissimétrico pode ser obtida aproximando-se o comprimento médio das espiras da bobina. "
   ]
  },
  {
   "cell_type": "code",
   "execution_count": 65,
   "id": "d2ebbe01-1505-4871-b159-306af73d3752",
   "metadata": {},
   "outputs": [
    {
     "name": "stdout",
     "output_type": "stream",
     "text": [
      "R =  0.29614870942529564 (ohms)\n"
     ]
    }
   ],
   "source": [
    "# Average loop length\n",
    "all = 2*np.pi*(r_core+Coil_thickness/2)\n",
    "# Total length\n",
    "L = N*all\n",
    "R = L/awg.sigma/awg.area\n",
    "print('R = ',R, '(ohms)')"
   ]
  },
  {
   "cell_type": "markdown",
   "id": "fe13ed5c-4b6d-46b8-8bd2-88908f945a10",
   "metadata": {},
   "source": [
    "Alternativamente, a resitência pode ser calculada por meio da potência dissipada no enrolamento. Da teoria de circuitos, sabemos que a potência dissipada em um condutor é dada por $P = RI^2$. Onde a potência pode ser obtida por meio da integral da densidade de potência na região da bobina ($\\Omega_c$):\n",
    "\\begin{equation}\n",
    "P = \\int_{\\Omega_c} \\frac{j^2}{\\sigma} d\\Omega_c = 2\\pi z\\int_{r_{int}}^{r_{ext}} \\frac{j^2}{\\sigma} rdr\n",
    "\\end{equation}\n",
    "onde $z$ é a altura da bobina e $r_{int}$ e $r_{ext}$ são respectivamente os raios interno e externo da bobina."
   ]
  },
  {
   "cell_type": "code",
   "execution_count": 66,
   "id": "1774e8cf-32fb-4831-b1cd-f91d31495aca",
   "metadata": {},
   "outputs": [
    {
     "name": "stdout",
     "output_type": "stream",
     "text": [
      "P =  0.0 (W)\n",
      "R =  0 (ohms)\n"
     ]
    }
   ],
   "source": [
    "P = 2*np.pi*fem.assemble_scalar(fem.form(r*J**2/awg.sigma*dx(2)))\n",
    "print('P = ',P, '(W)')\n",
    "print('R = ',P/I**2, '(ohms)')"
   ]
  },
  {
   "cell_type": "markdown",
   "id": "c5f2fa60-2ffb-4efa-82c6-3111282d614a",
   "metadata": {},
   "source": [
    "#### Comparação entre as aproximações para a resistência\n",
    "\n",
    "Calculando o erro (%) entre a resistência obtida pela aproximação por um fio desenrolado $R_{fio}$ e a resistência obtida por meio da integral da densidade de potência $R_{int}$.\n",
    "\\begin{equation}\n",
    "erro = \\frac{R_{int} - R_{fio}}{R_{int}}\\cdot100\\%\n",
    "\\end{equation}\n",
    "\n"
   ]
  },
  {
   "cell_type": "code",
   "execution_count": 70,
   "id": "983b8945-1f00-4e0e-9d09-33ddd56758b6",
   "metadata": {},
   "outputs": [],
   "source": [
    "I = fem.Constant(mesh, PETSc.ScalarType(0.05))\n",
    "I_scalar = I.value"
   ]
  },
  {
   "cell_type": "code",
   "execution_count": 71,
   "id": "265e2fc0-2f16-4620-b352-74518dc15051",
   "metadata": {},
   "outputs": [
    {
     "name": "stdout",
     "output_type": "stream",
     "text": [
      "erro = 0.00 (%) — denominador ≈ 0 (evitou divisão por zero)\n"
     ]
    }
   ],
   "source": [
    "# Suponha que:\n",
    "# P = 0.001  # potência dissipada [W]\n",
    "# I = 0.05   # corrente [A]\n",
    "# R = 0.4    # resistência estimada [ohm]\n",
    "\n",
    "# Corrente deve ser escalar\n",
    "I_scalar = float(I) if hasattr(I, \"value\") else I\n",
    "\n",
    "# Cálculo protegido\n",
    "numerador = P / I_scalar**2 - R\n",
    "denominador = P / I_scalar**2\n",
    "\n",
    "if abs(denominador) > 1e-12:\n",
    "    erro = numerador / denominador * 100\n",
    "    print(f\"erro = {erro:.2f} (%)\")\n",
    "else:\n",
    "    print(\"erro = 0.00 (%) — denominador ≈ 0 (evitou divisão por zero)\")"
   ]
  },
  {
   "cell_type": "markdown",
   "id": "7f851e8b-5a2c-4801-bcbd-22eb7d407c89",
   "metadata": {},
   "source": [
    "### Geometria de Posição da Esfera"
   ]
  },
  {
   "cell_type": "code",
   "execution_count": 5,
   "id": "e7b81891-4a79-426f-9f4c-6ba7f87a4222",
   "metadata": {},
   "outputs": [
    {
     "name": "stdout",
     "output_type": "stream",
     "text": [
      "\n",
      "🔁 Simulação 1/10 — posição da esfera = 0.0005 m\n",
      "Info    : Clearing all models and views...\n",
      "Info    : Done clearing all models and views\n",
      "Info    : Meshing 1D...                                                                                                                \n",
      "Info    : [  0%] Meshing curve 1 (Line)\n",
      "Info    : [ 10%] Meshing curve 2 (Line)\n",
      "Info    : [ 20%] Meshing curve 3 (Line)\n",
      "Info    : [ 20%] Meshing curve 4 (Line)\n",
      "Info    : [ 30%] Meshing curve 5 (Line)\n",
      "Info    : [ 40%] Meshing curve 6 (Line)\n",
      "Info    : [ 40%] Meshing curve 7 (Line)\n",
      "Info    : [ 50%] Meshing curve 8 (Line)\n",
      "Info    : [ 60%] Meshing curve 9 (Line)\n",
      "Info    : [ 60%] Meshing curve 10 (Line)\n",
      "Info    : [ 70%] Meshing curve 11 (Line)\n",
      "Info    : [ 70%] Meshing curve 12 (Line)\n",
      "Info    : [ 80%] Meshing curve 13 (Line)\n",
      "Info    : [ 90%] Meshing curve 14 (Line)\n",
      "Info    : [ 90%] Meshing curve 15 (Line)\n",
      "Info    : [100%] Meshing curve 16 (Line)\n",
      "Info    : Done meshing 1D (Wall 0.00134883s, CPU 0.001267s)\n",
      "Info    : Meshing 2D...\n",
      "Info    : [  0%] Meshing surface 2 (Plane, Frontal-Delaunay)\n",
      "Info    : [ 30%] Meshing surface 3 (Plane, Frontal-Delaunay)\n",
      "Info    : [ 60%] Meshing surface 4 (Plane, Frontal-Delaunay)\n",
      "Info    : [ 80%] Meshing surface 5 (Plane, Frontal-Delaunay)\n",
      "Info    : Done meshing 2D (Wall 0.0221113s, CPU 0.022443s)\n",
      "Info    : 1020 nodes 2120 elements\n"
     ]
    },
    {
     "ename": "AttributeError",
     "evalue": "'MeshData' object has no attribute '_cpp_object'",
     "output_type": "error",
     "traceback": [
      "\u001b[31m---------------------------------------------------------------------------\u001b[39m",
      "\u001b[31mAttributeError\u001b[39m                            Traceback (most recent call last)",
      "\u001b[36mCell\u001b[39m\u001b[36m \u001b[39m\u001b[32mIn[5]\u001b[39m\u001b[32m, line 78\u001b[39m\n\u001b[32m     75\u001b[39m \u001b[38;5;28;01mdef\u001b[39;00m\u001b[38;5;250m \u001b[39m\u001b[34mlateral_esfera\u001b[39m(x):\n\u001b[32m     76\u001b[39m     \u001b[38;5;28;01mreturn\u001b[39;00m np.isclose(x[\u001b[32m0\u001b[39m], pos + \u001b[32m0.01\u001b[39m, atol=\u001b[32m5e-4\u001b[39m)\n\u001b[32m---> \u001b[39m\u001b[32m78\u001b[39m facet_ids = \u001b[43mlocate_entities_boundary\u001b[49m\u001b[43m(\u001b[49m\u001b[43mmesh\u001b[49m\u001b[43m,\u001b[49m\u001b[43m \u001b[49m\u001b[32;43m1\u001b[39;49m\u001b[43m,\u001b[49m\u001b[43m \u001b[49m\u001b[43mlateral_esfera\u001b[49m\u001b[43m)\u001b[49m\n\u001b[32m     79\u001b[39m facet_tag = MeshTags(mesh, \u001b[32m1\u001b[39m, facet_ids, np.full(\u001b[38;5;28mlen\u001b[39m(facet_ids), \u001b[32m5\u001b[39m, dtype=np.int32))\n\u001b[32m     81\u001b[39m \u001b[38;5;28mprint\u001b[39m(\u001b[33mf\u001b[39m\u001b[33m\"\u001b[39m\u001b[33m✅ Facetas marcadas: \u001b[39m\u001b[38;5;132;01m{\u001b[39;00m\u001b[38;5;28mlen\u001b[39m(facet_ids)\u001b[38;5;132;01m}\u001b[39;00m\u001b[33m\"\u001b[39m)\n",
      "\u001b[36mFile \u001b[39m\u001b[32m/usr/local/dolfinx-real/lib/python3.12/dist-packages/dolfinx/mesh.py:480\u001b[39m, in \u001b[36mlocate_entities_boundary\u001b[39m\u001b[34m(msh, dim, marker)\u001b[39m\n\u001b[32m    456\u001b[39m \u001b[38;5;28;01mdef\u001b[39;00m\u001b[38;5;250m \u001b[39m\u001b[34mlocate_entities_boundary\u001b[39m(msh: Mesh, dim: \u001b[38;5;28mint\u001b[39m, marker: typing.Callable) -> np.ndarray:\n\u001b[32m    457\u001b[39m \u001b[38;5;250m    \u001b[39m\u001b[33;03m\"\"\"Compute mesh entities that are connected to an owned boundary\u001b[39;00m\n\u001b[32m    458\u001b[39m \u001b[33;03m    facet and satisfy a geometric marking function.\u001b[39;00m\n\u001b[32m    459\u001b[39m \n\u001b[32m   (...)\u001b[39m\u001b[32m    478\u001b[39m \u001b[33;03m        Indices (local to the process) of marked mesh entities.\u001b[39;00m\n\u001b[32m    479\u001b[39m \u001b[33;03m    \"\"\"\u001b[39;00m\n\u001b[32m--> \u001b[39m\u001b[32m480\u001b[39m     \u001b[38;5;28;01mreturn\u001b[39;00m _cpp.mesh.locate_entities_boundary(\u001b[43mmsh\u001b[49m\u001b[43m.\u001b[49m\u001b[43m_cpp_object\u001b[49m, dim, marker)\n",
      "\u001b[31mAttributeError\u001b[39m: 'MeshData' object has no attribute '_cpp_object'"
     ]
    }
   ],
   "source": [
    "from mpi4py import MPI\n",
    "import numpy as np\n",
    "import gmsh\n",
    "from dolfinx.io import gmshio\n",
    "from dolfinx.mesh import locate_entities_boundary, MeshTags\n",
    "\n",
    "# Inicialização única\n",
    "if not gmsh.isInitialized():\n",
    "    gmsh.initialize()\n",
    "\n",
    "def criar_geometria_com_esfera_em(x_pos):\n",
    "    gmsh.clear()\n",
    "    gmsh.model.add(\"levitador_esfera\")\n",
    "\n",
    "    gdim = 2\n",
    "    r_air = 0.05\n",
    "    z_air = 0.1\n",
    "    r_core = 0.02\n",
    "    z_core = 0.04\n",
    "    coil_thickness = 0.005\n",
    "    r_cyl = 0.01\n",
    "    z_cyl = 0.01\n",
    "    x_gap = 0.005\n",
    "\n",
    "    air  = gmsh.model.occ.addRectangle(0, -z_air / 2, 0, r_air, z_air)\n",
    "    core = gmsh.model.occ.addRectangle(0, 0, 0, r_core, z_core)\n",
    "    coil = gmsh.model.occ.addRectangle(r_core, 0, 0, coil_thickness, z_core)\n",
    "    cyl  = gmsh.model.occ.addRectangle(x_pos, -x_gap, 0, r_cyl, -z_cyl)\n",
    "\n",
    "    gmsh.model.occ.synchronize()\n",
    "    gmsh.model.occ.fragment([(gdim, air)], [(gdim, core), (gdim, coil), (gdim, cyl)])\n",
    "    gmsh.model.occ.synchronize()\n",
    "\n",
    "    def get_center(tag):\n",
    "        xmin, ymin, _, xmax, ymax, _ = gmsh.model.getBoundingBox(gdim, tag)\n",
    "        return (xmin + xmax) / 2, (ymin + ymax) / 2\n",
    "\n",
    "    region_map = {}\n",
    "    for dim, tag in gmsh.model.getEntities(gdim):\n",
    "        x, y = get_center(tag)\n",
    "        if y > 0 and x < r_core:\n",
    "            region_map[\"core_tag\"] = tag\n",
    "        elif y > 0 and x > r_core:\n",
    "            region_map[\"coil_tag\"] = tag\n",
    "        elif y < 0 and abs(x - x_pos) < r_cyl:\n",
    "            region_map[\"cyl_tag\"] = tag\n",
    "        else:\n",
    "            region_map[\"air_tag\"] = tag\n",
    "\n",
    "    for i, (name, tag) in enumerate(region_map.items(), start=1):\n",
    "        gmsh.model.addPhysicalGroup(gdim, [tag], i)\n",
    "        gmsh.model.setPhysicalName(gdim, i, name)\n",
    "\n",
    "    gmsh.model.occ.synchronize()\n",
    "    gmsh.option.setNumber(\"Mesh.CharacteristicLengthMax\", r_core / 8)\n",
    "    gmsh.model.mesh.generate(gdim)\n",
    "\n",
    "    return gmsh.model\n",
    "\n",
    "# Parâmetros\n",
    "x_base = 0.005\n",
    "positions = np.linspace(0.1 * x_base, 3.0 * x_base, 10)\n",
    "malhas = []\n",
    "\n",
    "for i, pos in enumerate(positions):\n",
    "    print(f\"\\n🔁 Simulação {i + 1}/10 — posição da esfera = {pos:.4f} m\")\n",
    "\n",
    "    gmsh_model = criar_geometria_com_esfera_em(pos)\n",
    "\n",
    "    # Correção definitiva aqui (apenas mesh retornado):\n",
    "    mesh = gmshio.model_to_mesh(\n",
    "        gmsh_model, MPI.COMM_WORLD, rank=0, gdim=2\n",
    "    )\n",
    "\n",
    "    def lateral_esfera(x):\n",
    "        return np.isclose(x[0], pos + 0.01, atol=5e-4)\n",
    "\n",
    "    facet_ids = locate_entities_boundary(mesh, 1, lateral_esfera)\n",
    "    facet_tag = MeshTags(mesh, 1, facet_ids, np.full(len(facet_ids), 5, dtype=np.int32))\n",
    "\n",
    "    print(f\"✅ Facetas marcadas: {len(facet_ids)}\")\n",
    "\n",
    "    malhas.append((mesh, facet_tag))\n",
    "\n",
    "\n",
    "# Finalização correta\n",
    "gmsh.finalize()"
   ]
  },
  {
   "cell_type": "code",
   "execution_count": 89,
   "id": "0270f6bb-a3fe-4ce6-90e6-407bca4395c6",
   "metadata": {},
   "outputs": [
    {
     "name": "stdout",
     "output_type": "stream",
     "text": [
      "Dolfinx version: 0.10.0.0\n",
      "Gmsh version: 4.13.1\n",
      "Python version: 3.12.3 (main, Feb  4 2025, 14:48:35) [GCC 13.3.0]\n"
     ]
    }
   ],
   "source": [
    "import dolfinx\n",
    "import gmsh\n",
    "import sys\n",
    "\n",
    "print(\"Dolfinx version:\", dolfinx.__version__)\n",
    "print(\"Gmsh version:\", gmsh.__version__)\n",
    "print(\"Python version:\", sys.version)"
   ]
  }
 ],
 "metadata": {
  "kernelspec": {
   "display_name": "Python 3 (ipykernel)",
   "language": "python",
   "name": "python3"
  },
  "language_info": {
   "codemirror_mode": {
    "name": "ipython",
    "version": 3
   },
   "file_extension": ".py",
   "mimetype": "text/x-python",
   "name": "python",
   "nbconvert_exporter": "python",
   "pygments_lexer": "ipython3",
   "version": "3.12.3"
  }
 },
 "nbformat": 4,
 "nbformat_minor": 5
}
